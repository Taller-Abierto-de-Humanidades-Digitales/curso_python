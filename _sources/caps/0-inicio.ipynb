{
 "cells": [
  {
   "cell_type": "markdown",
   "id": "b891f4df",
   "metadata": {},
   "source": [
    "# Un curso rapidísimo de Python\n",
    "\n",
    "Este es un curso rapidísimo de Python, diseñado para empezar a familiarizarte con el mundo de la programación. Vamos a tratar de comprender algunos conceptos básicos de la programación, y a escribir nuestro primer programa.\n",
    "\n",
    "## ¿Qué es Python?\n",
    "\n",
    "Python es un [lenguaje de programación de alto nivel](https://sites.google.com/site/teoriadelenguajesycompiladores/aplicaciones-de-la-tecnologia-de-compiladores/implementacion-de-lenguajes-de-programacion-de-alto-nivel), es decir, que traduce nuestras instrucciones a la computadora para que pueda ejecutar las acciones que le pedimos.\n",
    "\n",
    "Python tiene otra ventaja y es que es un lenguaje interpretado, lo que quiere decir que nuestros programas no necesitan compilarse para ser ejecutados. Esto hace que sea muchísimo más sencillo de aprender que otros lenguajes de programación.\n",
    "\n",
    "Finalmente, y esto es algo muy atractivo para quienes no nos dedicamos a la ciencia de la computación, es un lenguaje cuya sintaxis es muy sencilla y fácil de aprender. De hecho, muchas de las instrucciones son sumamente intuitivas. Por eso se dice que el lenguaje de Python es expresivo, porque con una sola instrucción podemos lograr mucho. Solamente para dar un ejemplo, en un lenguaje como C, para imprimir un mensaje en pantalla, tendríamos que escribir:\n",
    "\n",
    "```c\n",
    "#include <stdio.h>\n",
    "int main() {\n",
    "   printf(\"¡Hola mundo!\");\n",
    "   return 0;\n",
    "}\n",
    "```\n",
    "\n",
    "Esto sin contar que el programa tiene que se compilado para que se pueda ejecutar."
   ]
  },
  {
   "cell_type": "code",
   "execution_count": 1,
   "id": "d053498b",
   "metadata": {},
   "outputs": [
    {
     "name": "stdout",
     "output_type": "stream",
     "text": [
      "¡Hola Mundo!"
     ]
    },
    {
     "data": {
      "text/plain": [
       "0"
      ]
     },
     "execution_count": 1,
     "metadata": {},
     "output_type": "execute_result"
    }
   ],
   "source": [
    "from subprocess import call\n",
    "call([\"../holamundo.h\"]) # <- Este es el programa de arriba compilado en C"
   ]
  },
  {
   "cell_type": "markdown",
   "id": "88797fd4",
   "metadata": {},
   "source": [
    "En Python, la misma tarea se puede lograr con una sola línea de código:"
   ]
  },
  {
   "cell_type": "code",
   "execution_count": 2,
   "id": "a29cc141",
   "metadata": {},
   "outputs": [
    {
     "name": "stdout",
     "output_type": "stream",
     "text": [
      "Hola mundo\n"
     ]
    }
   ],
   "source": [
    "print(\"Hola mundo\")"
   ]
  },
  {
   "cell_type": "markdown",
   "id": "ac8805b0",
   "metadata": {},
   "source": [
    "El resultado que ves arriba es resultado de ejecutar el código anterior. Por esa razón, Python es un lenguaje con tanta popularidad, porque es muy fácil de aprender y de usar.\n",
    "\n",
    "## ¿Qué es un programa?\n",
    "\n",
    "Un programa es una secuencia de instrucciones que siguen un orden lógico para lograr un objetivo. Por ejemplo, si yo quiero que mi computadora \"salude\" a una persona por su nombre y apellido, puedo escribir un programa que haga eso. En Python, el programa se vería así:"
   ]
  },
  {
   "cell_type": "code",
   "execution_count": 3,
   "id": "b84c5956",
   "metadata": {},
   "outputs": [
    {
     "name": "stdout",
     "output_type": "stream",
     "text": [
      "Hola Francisco Azimov\n"
     ]
    }
   ],
   "source": [
    "nombre = \"Francisco\"\n",
    "apellido = \"Azimov\"\n",
    "print(\"Hola\", nombre, apellido)"
   ]
  },
  {
   "cell_type": "markdown",
   "id": "ffea2f79",
   "metadata": {},
   "source": [
    "En este caso, el programa tiene tres instrucciones:\n",
    "\n",
    "1. Asignar el valor \"Francisco\" a la variable `nombre`.\n",
    "2. Asignar el valor \"Azimov\" a la variable `apellido`.\n",
    "3. Imprimir el mensaje \"Hola\" seguido del valor de las variables `nombre` y `apellido`.\n",
    "\n",
    "Vamos a explorar más sobre las variables un poco más adelante. Por lo pronto, es suficiente con que tengas en cuenta que la computadora no entiende valores complejos, y en las humanidades (paradójicamente) vivimos en un mundo de complejidad. Por eso, necesitamos que la computadora entienda los conceptos que nosotros queremos analizar y esos valores se asignan a variables.\n",
    "\n",
    "Programar nos sirve para automatizar tareas que realizamos de manera repetitiva y a procesar grandes cantidades de información de manera muy rápida. En este microcurso, vamos a realizar operaciones muy acotadas, de tal manera que puedas ver y comprender cada paso, pero en la vida real, los programas son mucho más complejos.\n",
    "\n",
    "## Entonces ¿qué es codificar?\n",
    "\n",
    "Codificar consiste en escribir un programa con un lenguaje de programación. Los términos programación y codificación suelen usarse de manera intercambiable, pero programar es un proceso mucho más amplio. Programar consiste en escribir un programa, pero también en probarlo, depurarlo, documentarlo, etc. En este curso, vamos a aprender a codificar, pero no vamos a entrar en detalles sobre el resto de los pasos.\n",
    "\n",
    "## Y ¿en dónde entran los algoritmos?\n",
    "\n",
    "Los algoritmos son una serie de pasos que se siguen para resolver un problema. Por ejemplo, si quiero saber cuánto es 2 + 2, puedo escribir un algoritmo que me diga el resultado. En este caso, el algoritmo sería:\n",
    "\n",
    "1. Tomar el número 2.\n",
    "2. Sumarle el número 2.\n",
    "3. Imprimir el resultado.\n",
    "\n",
    "En Python, el algoritmo se vería así:"
   ]
  },
  {
   "cell_type": "code",
   "execution_count": 4,
   "id": "3f00ba6c",
   "metadata": {},
   "outputs": [
    {
     "name": "stdout",
     "output_type": "stream",
     "text": [
      "4\n"
     ]
    }
   ],
   "source": [
    "print(2 + 2)"
   ]
  },
  {
   "cell_type": "markdown",
   "id": "8e10f85c",
   "metadata": {},
   "source": [
    "Fácil, ¿no? Pero generalmente no nos encontramos con problemas que ya han sido resueltos de manera tan sencilla. Por ejemplo, si tenemos la frase \"Más vale un pájaro en la mano que dos volando\", ¿cómo podemos saber cuántas palabras tiene? Podemos escribir un algoritmo que nos ayude a resolver este problema. En este caso, el algoritmo sería:\n",
    "\n",
    "1. Contar el número de espacios en la frase.\n",
    "2. Sumarle 1 al resultado anterior.\n",
    "\n",
    "En Python, el algoritmo se vería así:"
   ]
  },
  {
   "cell_type": "code",
   "execution_count": 5,
   "id": "10857e64",
   "metadata": {},
   "outputs": [
    {
     "name": "stdout",
     "output_type": "stream",
     "text": [
      "10\n"
     ]
    }
   ],
   "source": [
    "frase = \"Más vale un pájaro en la mano que dos volando\"\n",
    "espacios = frase.count(\" \")\n",
    "palabras = espacios + 1\n",
    "print(palabras)"
   ]
  },
  {
   "cell_type": "markdown",
   "id": "9ee9994c",
   "metadata": {},
   "source": [
    "Como habrás notado, este algoritmo parte de la respuesta a una pregunta ¿qué es una palabra? La respuesta que tomamos es que una palabra es una secuencia de caracteres separada por espacios. En este sentido, si se identifica el valor común (espacios) y se cuenta cuántas veces aparece, se puede saber cuántas palabras hay en la frase. En este caso, el resultado es 9. También sabemos que toda frase tiene un espacio menos que palabras (porque no termina en espacio), por eso se suma 1 al resultado.\n",
    "\n",
    "Obviamente este es un algoritmo muy simple, y ya habrás deducido otra gran cantidad de posibilidades de error. Por ejemplo, ¿qué sucede si la frase termina en un espacio? ¿Cómo podemos lidiar con signos de puntuación? ¿Podemos considerar como palabras a las conjunciones? Involucrar estas preguntas en el algoritmo es lo que va construyendo un programa y lo hace más sofisticado. Por esta razón, es relevante entender que un algoritmo es un conjunto de instrucciones simples que, en conjunto, pueden resolver una cantidad casi infinita de problemas.\n",
    "\n",
    "## En síntesis\n",
    "\n",
    "* El algoritmo es una serie de pasos que se siguen para resolver un problema.\n",
    "* El programa es una secuencia de instrucciones que siguen un orden lógico para lograr un objetivo.\n",
    "* La codificación es escribir un programa con un lenguaje de programación.\n",
    "\n",
    "Ahora que tenemos los primeros conceptos claros, pongámonos manos a la obra."
   ]
  }
 ],
 "metadata": {
  "jupytext": {
   "cell_metadata_filter": "-all",
   "formats": "md:myst",
   "text_representation": {
    "extension": ".md",
    "format_name": "myst",
    "format_version": 0.13,
    "jupytext_version": "1.14.0"
   }
  },
  "kernelspec": {
   "display_name": "Python 3 (ipykernel)",
   "language": "python",
   "name": "python3"
  },
  "language_info": {
   "codemirror_mode": {
    "name": "ipython",
    "version": 3
   },
   "file_extension": ".py",
   "mimetype": "text/x-python",
   "name": "python",
   "nbconvert_exporter": "python",
   "pygments_lexer": "ipython3",
   "version": "3.9.7"
  },
  "source_map": [
   14,
   38,
   41,
   45,
   47,
   55,
   59,
   85,
   87,
   96,
   101
  ]
 },
 "nbformat": 4,
 "nbformat_minor": 5
}