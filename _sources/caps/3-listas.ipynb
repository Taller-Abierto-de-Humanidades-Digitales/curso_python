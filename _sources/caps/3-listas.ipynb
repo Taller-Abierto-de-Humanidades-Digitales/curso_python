{
 "cells": [
  {
   "cell_type": "markdown",
   "id": "384581a3",
   "metadata": {},
   "source": [
    "# Listas\n",
    "\n",
    "Ya vimos valores asignados individualmente a una variable. Esto realmente no es muy útil. Lo que nos interesa es poder guardar varios valores en una sola variable. Para esto, utilizamos las listas.\n",
    "\n",
    "Las listas se definen como una colección de elementos en un orden en particular. En Python, las listas son conjuntos de muchos tipos de datos, incluyendo números, cadenas de texto, booleanos, etc.\n",
    "\n",
    "Las listas se definen con corchetes `[]` y los elementos se separan con comas `,`. Por ejemplo, una lista con los protagonistas de la serie de televisión \"Friends\" se puede definir como:"
   ]
  },
  {
   "cell_type": "code",
   "execution_count": 1,
   "id": "af52ffff",
   "metadata": {},
   "outputs": [
    {
     "data": {
      "text/plain": [
       "['Rachel', 'Monica', 'Phoebe', 'Joey', 'Chandler', 'Ross']"
      ]
     },
     "execution_count": 1,
     "metadata": {},
     "output_type": "execute_result"
    }
   ],
   "source": [
    "protagonistas = [\"Rachel\", \"Monica\", \"Phoebe\", \"Joey\", \"Chandler\", \"Ross\"]\n",
    "protagonistas"
   ]
  },
  {
   "cell_type": "markdown",
   "id": "097fa411",
   "metadata": {},
   "source": [
    "## Accediendo a los elementos de una lista\n",
    "\n",
    "Para acceder a los elementos de una lista, utilizamos el índice del elemento. Los índices de las listas comienzan en 0, por lo que el primer elemento de la lista es el elemento con índice 0. Por ejemplo, para acceder al primer elemento de la lista `protagonistas`, utilizamos el índice 0:"
   ]
  },
  {
   "cell_type": "code",
   "execution_count": 2,
   "id": "ac322e15",
   "metadata": {},
   "outputs": [
    {
     "data": {
      "text/plain": [
       "'Rachel'"
      ]
     },
     "execution_count": 2,
     "metadata": {},
     "output_type": "execute_result"
    }
   ],
   "source": [
    "protagonistas[0]"
   ]
  },
  {
   "cell_type": "markdown",
   "id": "72c352b6",
   "metadata": {},
   "source": [
    "De la misma manera podemos acceder a cualquier elemento de la lista. Siempre que conozcamos su ubicación, podemos acceder a un resultado esperado. Por ejemplo, para acceder a `\"Joey\"`, utilizamos el índice 3:"
   ]
  },
  {
   "cell_type": "code",
   "execution_count": 3,
   "id": "7d3f0b4c",
   "metadata": {},
   "outputs": [
    {
     "data": {
      "text/plain": [
       "'Joey'"
      ]
     },
     "execution_count": 3,
     "metadata": {},
     "output_type": "execute_result"
    }
   ],
   "source": [
    "protagonistas[3]"
   ]
  },
  {
   "cell_type": "markdown",
   "id": "1ec4c444",
   "metadata": {},
   "source": [
    "Incluso, podemos saber si `\"Chandler\"` está en la lista:"
   ]
  },
  {
   "cell_type": "code",
   "execution_count": 4,
   "id": "93497d88",
   "metadata": {},
   "outputs": [
    {
     "data": {
      "text/plain": [
       "True"
      ]
     },
     "execution_count": 4,
     "metadata": {},
     "output_type": "execute_result"
    }
   ],
   "source": [
    "\"Chandler\" in protagonistas"
   ]
  },
  {
   "cell_type": "markdown",
   "id": "69df54ba",
   "metadata": {},
   "source": [
    "Podemos utilizar un valor de la lista para asignarlo a una variable, por ejemplo, para incluirlo en una frase:"
   ]
  },
  {
   "cell_type": "code",
   "execution_count": 5,
   "id": "3ccf0d9b",
   "metadata": {},
   "outputs": [
    {
     "name": "stdout",
     "output_type": "stream",
     "text": [
      "Rachel es una de las protagonista de la serie Friends\n"
     ]
    }
   ],
   "source": [
    "print(f\"{protagonistas[0]} es una de las protagonista de la serie Friends\")"
   ]
  },
  {
   "cell_type": "markdown",
   "id": "0d5c758c",
   "metadata": {},
   "source": [
    "Estas son operaciones muy básicas con las listas, pero son fundamentales para poder utilizarlas.\n",
    "\n",
    "## Modificando los elementos de una lista\n",
    "\n",
    "Podemos modificar los elementos de una lista. Por ejemplo, podemos cambiar el nombre de la primera protagonista de la serie:"
   ]
  },
  {
   "cell_type": "code",
   "execution_count": 6,
   "id": "cc7f7154",
   "metadata": {},
   "outputs": [
    {
     "data": {
      "text/plain": [
       "['Rachel Green', 'Monica', 'Phoebe', 'Joey', 'Chandler', 'Ross']"
      ]
     },
     "execution_count": 6,
     "metadata": {},
     "output_type": "execute_result"
    }
   ],
   "source": [
    "protagonistas[0] = \"Rachel Green\"\n",
    "protagonistas"
   ]
  },
  {
   "cell_type": "markdown",
   "id": "2bb445d2",
   "metadata": {},
   "source": [
    "Notarás que inmediatamente cambia la lista. Esto es porque las listas son mutables, es decir, podemos modificarlas.\n",
    "\n",
    "Podríamos querer realizar lo mismo con otro de los caracteres, por ejemplo con `\"Joey\"`:"
   ]
  },
  {
   "cell_type": "code",
   "execution_count": 7,
   "id": "2bea503b",
   "metadata": {},
   "outputs": [
    {
     "data": {
      "text/plain": [
       "['Rachel Green', 'Monica', 'Phoebe', 'Joey Tribbiani', 'Chandler', 'Ross']"
      ]
     },
     "execution_count": 7,
     "metadata": {},
     "output_type": "execute_result"
    }
   ],
   "source": [
    "protagonistas[3] = \"Joey Tribbiani\"\n",
    "protagonistas"
   ]
  },
  {
   "cell_type": "markdown",
   "id": "d80f8129",
   "metadata": {},
   "source": [
    "Es decir, de manera básica, si conocemos la posición del valor, podemos modificarlo. Posteriormente veremos cómo utilizar condicionales para modificar los valores de una manera más dinámica.\n",
    "\n",
    "## Agregando elementos a una lista\n",
    "\n",
    "Podemos agregar elementos a una lista, para ello utilizamos el método `append()`. Por ejemplo, podemos agregar a la lista a un nuevo personaje de la serie:"
   ]
  },
  {
   "cell_type": "code",
   "execution_count": 8,
   "id": "4865db54",
   "metadata": {},
   "outputs": [
    {
     "data": {
      "text/plain": [
       "['Rachel Green',\n",
       " 'Monica',\n",
       " 'Phoebe',\n",
       " 'Joey Tribbiani',\n",
       " 'Chandler',\n",
       " 'Ross',\n",
       " 'Gunther']"
      ]
     },
     "execution_count": 8,
     "metadata": {},
     "output_type": "execute_result"
    }
   ],
   "source": [
    "protagonistas.append(\"Gunther\")\n",
    "protagonistas"
   ]
  },
  {
   "cell_type": "markdown",
   "id": "d84185bd",
   "metadata": {},
   "source": [
    "En el caso de `append()` el elemento se asignará siempre al final de la lista. Si queremos agregar un elemento en una posición específica, utilizamos el método `insert()`. Por ejemplo, podemos agregar a la lista a un nuevo personaje de la serie al lado de `\"Chandler\"`:"
   ]
  },
  {
   "cell_type": "code",
   "execution_count": 9,
   "id": "22cc1795",
   "metadata": {},
   "outputs": [
    {
     "data": {
      "text/plain": [
       "['Rachel Green',\n",
       " 'Monica',\n",
       " 'Phoebe',\n",
       " 'Joey Tribbiani',\n",
       " 'Chandler',\n",
       " 'Janice',\n",
       " 'Ross',\n",
       " 'Gunther']"
      ]
     },
     "execution_count": 9,
     "metadata": {},
     "output_type": "execute_result"
    }
   ],
   "source": [
    "protagonistas.insert(5, \"Janice\")\n",
    "protagonistas"
   ]
  },
  {
   "cell_type": "markdown",
   "id": "71128425",
   "metadata": {},
   "source": [
    "En general se suele utilizar con mucha mayor frecuencia el método `append()`, esto porque en general la lista se va llenando de elementos y no se suele agregar en una posición específica.\n",
    "\n",
    "## Eliminando elementos de una lista\n",
    "\n",
    "Podemos eliminar elementos de una lista, para ello utilizamos el método `remove()`. Por ejemplo, podemos eliminar a `\"Gunther\"` de la lista:"
   ]
  },
  {
   "cell_type": "code",
   "execution_count": 10,
   "id": "695cb0ac",
   "metadata": {},
   "outputs": [
    {
     "data": {
      "text/plain": [
       "['Rachel Green',\n",
       " 'Monica',\n",
       " 'Phoebe',\n",
       " 'Joey Tribbiani',\n",
       " 'Chandler',\n",
       " 'Janice',\n",
       " 'Ross']"
      ]
     },
     "execution_count": 10,
     "metadata": {},
     "output_type": "execute_result"
    }
   ],
   "source": [
    "protagonistas.remove(\"Gunther\")\n",
    "protagonistas"
   ]
  },
  {
   "cell_type": "markdown",
   "id": "0df7e9ea",
   "metadata": {},
   "source": [
    "Si queremos eliminar un elemento en una posición específica, utilizamos el método `pop()`. Por ejemplo, podemos eliminar a `\"Janice\"` de la lista:"
   ]
  },
  {
   "cell_type": "code",
   "execution_count": 11,
   "id": "0b609127",
   "metadata": {},
   "outputs": [
    {
     "data": {
      "text/plain": [
       "['Rachel Green', 'Monica', 'Phoebe', 'Joey Tribbiani', 'Chandler', 'Ross']"
      ]
     },
     "execution_count": 11,
     "metadata": {},
     "output_type": "execute_result"
    }
   ],
   "source": [
    "protagonistas.pop(5)\n",
    "protagonistas"
   ]
  },
  {
   "cell_type": "markdown",
   "id": "1cc774c2",
   "metadata": {},
   "source": [
    "Como verás, el método `remove()` es mucho más intuitivo y en general es más utilizado que `pop()`.\n",
    "\n",
    "## Ordenando una lista\n",
    "\n",
    "Podemos ordenar una lista, para ello utilizamos el método `sort()`. Por ejemplo, podemos ordenar la lista de los protagonistas de la serie:"
   ]
  },
  {
   "cell_type": "code",
   "execution_count": 12,
   "id": "b9a49de7",
   "metadata": {},
   "outputs": [
    {
     "data": {
      "text/plain": [
       "['Chandler', 'Joey Tribbiani', 'Monica', 'Phoebe', 'Rachel Green', 'Ross']"
      ]
     },
     "execution_count": 12,
     "metadata": {},
     "output_type": "execute_result"
    }
   ],
   "source": [
    "protagonistas.sort()\n",
    "protagonistas"
   ]
  },
  {
   "cell_type": "markdown",
   "id": "35aa10b0",
   "metadata": {},
   "source": [
    "Obviamente, aquí debemos tener en cuenta que la forma de ordenar los elementos depende del tipo de datos que se esté utilizando. Por ejemplo, si tenemos una lista de números, se ordenará de menor a mayor. Si tenemos una lista de cadenas de texto, se ordenará alfabéticamente.\n",
    "\n",
    "```{admonition} Orden alfabético y mayúsculas\n",
    ":class: tip\n",
    "El orden de la lista se realiza alfabéticamente, por lo que las mayúsculas tienen prioridad sobre las minúsculas. Por ejemplo, `\"A\"` es menor que `\"a\"`. Esto es importante tenerlo en cuenta, ya que puede generar resultados inesperados.\n",
    "```\n",
    "\n",
    "Esto implica que también podemos ordenar de manera inversa, para ello utilizamos el método `sort(reverse=True)`. Por ejemplo, podemos ordenar la lista de los protagonistas de la serie de manera inversa:"
   ]
  },
  {
   "cell_type": "code",
   "execution_count": 13,
   "id": "90595dec",
   "metadata": {},
   "outputs": [
    {
     "data": {
      "text/plain": [
       "['Ross', 'Rachel Green', 'Phoebe', 'Monica', 'Joey Tribbiani', 'Chandler']"
      ]
     },
     "execution_count": 13,
     "metadata": {},
     "output_type": "execute_result"
    }
   ],
   "source": [
    "protagonistas.sort(reverse=True)\n",
    "protagonistas"
   ]
  },
  {
   "cell_type": "markdown",
   "id": "791c3a85",
   "metadata": {},
   "source": [
    "Existe otro método de reordenación de una lista que es `reverse()`. Este método invierte el orden de los elementos de la lista. Por ejemplo, podemos invertir el orden de la lista de los protagonistas de la serie:"
   ]
  },
  {
   "cell_type": "code",
   "execution_count": 14,
   "id": "2fb3e31c",
   "metadata": {},
   "outputs": [
    {
     "data": {
      "text/plain": [
       "['Chandler', 'Joey Tribbiani', 'Monica', 'Phoebe', 'Rachel Green', 'Ross']"
      ]
     },
     "execution_count": 14,
     "metadata": {},
     "output_type": "execute_result"
    }
   ],
   "source": [
    "protagonistas.reverse()\n",
    "protagonistas"
   ]
  },
  {
   "cell_type": "markdown",
   "id": "41b891f5",
   "metadata": {},
   "source": [
    "En este caso, la lista no está ordenada \"alfabéticamente\", sino que se invierte el orden de los elementos. Por ejemplo:"
   ]
  },
  {
   "cell_type": "code",
   "execution_count": 15,
   "id": "ef124ada",
   "metadata": {},
   "outputs": [
    {
     "data": {
      "text/plain": [
       "[5, 7, 5, 3, 1]"
      ]
     },
     "execution_count": 15,
     "metadata": {},
     "output_type": "execute_result"
    }
   ],
   "source": [
    "lista = [1, 3, 5, 7, 5]\n",
    "lista.reverse()\n",
    "lista"
   ]
  },
  {
   "cell_type": "markdown",
   "id": "8822552a",
   "metadata": {},
   "source": [
    "## Longitud de una lista\n",
    "\n",
    "Finalmente, una operación muy recurrida es hallar el número de elementos de una lista. Para ello utilizamos la función `len()`. Por ejemplo, podemos hallar el número de elementos de la lista de los protagonistas de la serie:"
   ]
  },
  {
   "cell_type": "code",
   "execution_count": 16,
   "id": "5c02a3ee",
   "metadata": {},
   "outputs": [
    {
     "data": {
      "text/plain": [
       "6"
      ]
     },
     "execution_count": 16,
     "metadata": {},
     "output_type": "execute_result"
    }
   ],
   "source": [
    "len(protagonistas)"
   ]
  },
  {
   "cell_type": "markdown",
   "id": "71493c04",
   "metadata": {},
   "source": [
    "Y así podemos utilizarlo en otras variables, como en la frase:"
   ]
  },
  {
   "cell_type": "code",
   "execution_count": 17,
   "id": "ecc04353",
   "metadata": {},
   "outputs": [
    {
     "name": "stdout",
     "output_type": "stream",
     "text": [
      "Los protagonistas de Friends son 6\n"
     ]
    }
   ],
   "source": [
    "print(f'Los protagonistas de Friends son {len(protagonistas)}')"
   ]
  },
  {
   "cell_type": "markdown",
   "id": "4dad1810",
   "metadata": {},
   "source": [
    "En este momento es básicamente un asunto de curiosidad, pero cuando veámos los bucles, veremos que es muy útil para saber cuántas veces se debe repetir un proceso."
   ]
  }
 ],
 "metadata": {
  "jupytext": {
   "cell_metadata_filter": "-all",
   "formats": "md:myst",
   "text_representation": {
    "extension": ".md",
    "format_name": "myst",
    "format_version": 0.13,
    "jupytext_version": "1.14.0"
   }
  },
  "kernelspec": {
   "display_name": "Python 3 (ipykernel)",
   "language": "python",
   "name": "python3"
  },
  "language_info": {
   "codemirror_mode": {
    "name": "ipython",
    "version": 3
   },
   "file_extension": ".py",
   "mimetype": "text/x-python",
   "name": "python",
   "nbconvert_exporter": "python",
   "pygments_lexer": "ipython3",
   "version": "3.9.7"
  },
  "source_map": [
   14,
   24,
   27,
   33,
   35,
   39,
   41,
   45,
   47,
   51,
   53,
   61,
   64,
   70,
   73,
   81,
   84,
   88,
   91,
   99,
   102,
   106,
   109,
   117,
   120,
   131,
   134,
   138,
   141,
   145,
   149,
   155,
   157,
   161,
   163
  ]
 },
 "nbformat": 4,
 "nbformat_minor": 5
}