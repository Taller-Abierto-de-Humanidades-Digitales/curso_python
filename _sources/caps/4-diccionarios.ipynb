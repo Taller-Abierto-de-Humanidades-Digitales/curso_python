{
 "cells": [
  {
   "cell_type": "markdown",
   "id": "4a524ad1",
   "metadata": {},
   "source": [
    "# Diccionarios\n",
    "\n",
    "Los diccionarios son estructuras de datos que permiten asociar información a través de claves y valores. De cierta manera, un diccionario puede ir desde algo muy simple hasta prácticamente representar una base de datos. En este capítulo veremos cómo crear diccionarios, cómo acceder a sus elementos y cómo modificarlos.\n",
    "\n",
    "## Creando diccionarios\n",
    "\n",
    "Los diccionarios se definen con llaves `{}` y los elementos se separan con comas `,`. Por ejemplo, un diccionario con los protagonistas de la serie de televisión \"Friends\" se puede definir como:"
   ]
  },
  {
   "cell_type": "code",
   "execution_count": 1,
   "id": "fb937b97",
   "metadata": {},
   "outputs": [
    {
     "data": {
      "text/plain": [
       "{'Rachel': 'Jennifer Aniston',\n",
       " 'Monica': 'Courteney Cox',\n",
       " 'Phoebe': 'Lisa Kudrow',\n",
       " 'Joey': 'Matt LeBlanc',\n",
       " 'Chandler': 'Matthew Perry',\n",
       " 'Ross': 'David Schwimmer'}"
      ]
     },
     "execution_count": 1,
     "metadata": {},
     "output_type": "execute_result"
    }
   ],
   "source": [
    "protagonistas = {\n",
    "    \"Rachel\": \"Jennifer Aniston\",\n",
    "    \"Monica\": \"Courteney Cox\",\n",
    "    \"Phoebe\": \"Lisa Kudrow\",\n",
    "    \"Joey\": \"Matt LeBlanc\",\n",
    "    \"Chandler\": \"Matthew Perry\",\n",
    "    \"Ross\": \"David Schwimmer\"\n",
    "}\n",
    "\n",
    "protagonistas"
   ]
  },
  {
   "cell_type": "markdown",
   "id": "8e03199c",
   "metadata": {},
   "source": [
    "De esa manera, tenemos un listado de los protagonistas y a cada uno de ellos le hemos asignado un valor. En este caso, el valor es el nombre del actor o actriz que lo interpretó.\n",
    "\n",
    "## Operaciones con diccionarios\n",
    "\n",
    "Eric Matthes explica que un diccionario es \"una colección de *pares de valores clave*\" donde \"cada *clave* está conextada a un valor, y se puede usar una clave para acceder a un valor asociado con dicha clave\" {cite}`matthes_python_2016`. El valor de una clave puede ser cualquier tipo de dato, incluso otro diccionario. \n",
    "\n",
    "Por ejemplo, podemos hacer un diccionario más complejo para que cada protagonista tenga un diccionario con sus datos personales:"
   ]
  },
  {
   "cell_type": "code",
   "execution_count": 2,
   "id": "1f1bfa38",
   "metadata": {},
   "outputs": [
    {
     "data": {
      "text/plain": [
       "{'Rachel': {'nombre': 'Jennifer Aniston',\n",
       "  'año_nacimiento': 1969,\n",
       "  'nacionalidad': 'Estadounidense',\n",
       "  'género': 'Femenino'},\n",
       " 'Monica': {'nombre': 'Courteney Cox',\n",
       "  'año_nacimiento': 1964,\n",
       "  'nacionalidad': 'Estadounidense',\n",
       "  'género': 'Femenino'},\n",
       " 'Phoebe': {'nombre': 'Lisa Kudrow',\n",
       "  'año_nacimiento': 1963,\n",
       "  'nacionalidad': 'Estadounidense',\n",
       "  'género': 'Femenino'},\n",
       " 'Joey': {'nombre': 'Matt LeBlanc',\n",
       "  'año_nacimiento': 1967,\n",
       "  'nacionalidad': 'Estadounidense',\n",
       "  'género': 'Masculino'},\n",
       " 'Chandler': {'nombre': 'Matthew Perry',\n",
       "  'año_nacimiento': 1969,\n",
       "  'nacionalidad': 'Estadounidense',\n",
       "  'género': 'Masculino'},\n",
       " 'Ross': {'nombre': 'David Schwimmer',\n",
       "  'año_nacimiento': 1966,\n",
       "  'nacionalidad': 'Estadounidense',\n",
       "  'género': 'Masculino'}}"
      ]
     },
     "execution_count": 2,
     "metadata": {},
     "output_type": "execute_result"
    }
   ],
   "source": [
    "protagonistas = {\n",
    "    \"Rachel\": {\n",
    "        \"nombre\": \"Jennifer Aniston\",\n",
    "        \"año_nacimiento\": 1969,\n",
    "        \"nacionalidad\": \"Estadounidense\",\n",
    "        \"género\": \"Femenino\"\n",
    "    },\n",
    "    \"Monica\": {\n",
    "        \"nombre\": \"Courteney Cox\",\n",
    "        \"año_nacimiento\": 1964,\n",
    "        \"nacionalidad\": \"Estadounidense\",\n",
    "        \"género\": \"Femenino\"\n",
    "    },\n",
    "    \"Phoebe\": {\n",
    "        \"nombre\": \"Lisa Kudrow\",\n",
    "        \"año_nacimiento\": 1963,\n",
    "        \"nacionalidad\": \"Estadounidense\",\n",
    "        \"género\": \"Femenino\"\n",
    "    },\n",
    "    \"Joey\": {\n",
    "        \"nombre\": \"Matt LeBlanc\",\n",
    "        \"año_nacimiento\": 1967,\n",
    "        \"nacionalidad\": \"Estadounidense\",\n",
    "        \"género\": \"Masculino\"\n",
    "    },\n",
    "    \"Chandler\": {\n",
    "        \"nombre\": \"Matthew Perry\",\n",
    "        \"año_nacimiento\": 1969,\n",
    "        \"nacionalidad\": \"Estadounidense\",\n",
    "        \"género\": \"Masculino\"\n",
    "    },\n",
    "    \"Ross\": {\n",
    "        \"nombre\": \"David Schwimmer\",\n",
    "        \"año_nacimiento\": 1966,\n",
    "        \"nacionalidad\": \"Estadounidense\",\n",
    "        \"género\": \"Masculino\"\n",
    "    }\n",
    "}\n",
    "\n",
    "protagonistas"
   ]
  },
  {
   "cell_type": "markdown",
   "id": "206a2e86",
   "metadata": {},
   "source": [
    "De esa manera podemos acceder no solamente a un valor asociado a una clave (por ejemplo, el nombre de la actriz que intepretó a Rachel), sino también a un diccionario asociado a una clave (por ejemplo, la edad de cada uno de los protagonistas).\n",
    "\n",
    "### Accediendo a los elementos de un diccionario\n",
    "\n",
    "Para acceder a los elementos de un diccionario, podemos usar la sintaxis `diccionario[clave]`. Por ejemplo, para acceder al nombre de la actriz que interpretó a Rachel:"
   ]
  },
  {
   "cell_type": "code",
   "execution_count": 3,
   "id": "2c8f45a5",
   "metadata": {},
   "outputs": [
    {
     "data": {
      "text/plain": [
       "'Jennifer Aniston'"
      ]
     },
     "execution_count": 3,
     "metadata": {},
     "output_type": "execute_result"
    }
   ],
   "source": [
    "protagonistas[\"Rachel\"][\"nombre\"]"
   ]
  },
  {
   "cell_type": "markdown",
   "id": "c7f648d4",
   "metadata": {},
   "source": [
    "Presta atención a la sintaxis que usamos para acceder al valor deseado. Primero, accedemos al diccionario `protagonistas` y luego a la clave `\"Rachel\"`. Esa clave nos devuelve un diccionario con los datos de Rachel. Finalmente, accedemos a la clave `\"nombre\"` para obtener el valor deseado.\n",
    "\n",
    "Hagámoslo por pasos:"
   ]
  },
  {
   "cell_type": "code",
   "execution_count": 4,
   "id": "de75b9f9",
   "metadata": {},
   "outputs": [
    {
     "name": "stdout",
     "output_type": "stream",
     "text": [
      "{'nombre': 'Jennifer Aniston', 'año_nacimiento': 1969, 'nacionalidad': 'Estadounidense', 'género': 'Femenino'}\n"
     ]
    }
   ],
   "source": [
    "# aquí accedemos al diccionario \"protagonistas\" y a la clave \"Rachel\"\n",
    "valor1 = protagonistas[\"Rachel\"]\n",
    "print(valor1)"
   ]
  },
  {
   "cell_type": "code",
   "execution_count": 5,
   "id": "1a0cab25",
   "metadata": {},
   "outputs": [
    {
     "name": "stdout",
     "output_type": "stream",
     "text": [
      "Jennifer Aniston\n"
     ]
    }
   ],
   "source": [
    "# aquí accedemos al diccionario \"valor1\" y a la clave \"nombre\"\n",
    "valor2 = valor1[\"nombre\"]\n",
    "print(valor2)"
   ]
  },
  {
   "cell_type": "markdown",
   "id": "b12edc0a",
   "metadata": {},
   "source": [
    "Si la clave no existe, Python nos arrojará un error indicando que la clave es incorrecta:"
   ]
  },
  {
   "cell_type": "code",
   "execution_count": 6,
   "id": "6b067667",
   "metadata": {},
   "outputs": [
    {
     "ename": "KeyError",
     "evalue": "'apellido'",
     "output_type": "error",
     "traceback": [
      "\u001b[0;31m---------------------------------------------------------------------------\u001b[0m",
      "\u001b[0;31mKeyError\u001b[0m                                  Traceback (most recent call last)",
      "\u001b[0;32m/var/folders/6z/cjmzygfj49d6yzn_qgny7hgr0000gp/T/ipykernel_73671/4015747152.py\u001b[0m in \u001b[0;36m<module>\u001b[0;34m\u001b[0m\n\u001b[0;32m----> 1\u001b[0;31m \u001b[0mprotagonistas\u001b[0m\u001b[0;34m[\u001b[0m\u001b[0;34m\"Chandler\"\u001b[0m\u001b[0;34m]\u001b[0m\u001b[0;34m[\u001b[0m\u001b[0;34m\"apellido\"\u001b[0m\u001b[0;34m]\u001b[0m\u001b[0;34m\u001b[0m\u001b[0;34m\u001b[0m\u001b[0m\n\u001b[0m",
      "\u001b[0;31mKeyError\u001b[0m: 'apellido'"
     ]
    }
   ],
   "source": [
    "protagonistas[\"Chandler\"][\"apellido\"]"
   ]
  },
  {
   "cell_type": "markdown",
   "id": "c388e7f8",
   "metadata": {},
   "source": [
    "### Agregando elementos a un diccionario\n",
    "\n",
    "Para agregar elementos a un diccionario, podemos usar la sintaxis `diccionario[clave] = valor`. Por ejemplo, para agregar el apellido de Chandler:"
   ]
  },
  {
   "cell_type": "code",
   "execution_count": 7,
   "id": "aa40f245",
   "metadata": {},
   "outputs": [
    {
     "data": {
      "text/plain": [
       "{'nombre': 'Matthew Perry',\n",
       " 'año_nacimiento': 1969,\n",
       " 'nacionalidad': 'Estadounidense',\n",
       " 'género': 'Masculino',\n",
       " 'apellido': 'Bing'}"
      ]
     },
     "execution_count": 7,
     "metadata": {},
     "output_type": "execute_result"
    }
   ],
   "source": [
    "protagonistas[\"Chandler\"][\"apellido\"] = \"Bing\"\n",
    "protagonistas[\"Chandler\"]"
   ]
  },
  {
   "cell_type": "markdown",
   "id": "0165857f",
   "metadata": {},
   "source": [
    "Notarás que el orden de los elementos no cambió. Esto es porque los diccionarios no tienen un orden definido. También notarás que no hay problema con que los demás miembros de la serie no tengan apellido. Pero si intentáramos acceder al apellido de Rachel, Python nos arrojaría un error:"
   ]
  },
  {
   "cell_type": "code",
   "execution_count": 8,
   "id": "bf0c4c04",
   "metadata": {},
   "outputs": [
    {
     "ename": "KeyError",
     "evalue": "'apellido'",
     "output_type": "error",
     "traceback": [
      "\u001b[0;31m---------------------------------------------------------------------------\u001b[0m",
      "\u001b[0;31mKeyError\u001b[0m                                  Traceback (most recent call last)",
      "\u001b[0;32m/var/folders/6z/cjmzygfj49d6yzn_qgny7hgr0000gp/T/ipykernel_73671/1505952786.py\u001b[0m in \u001b[0;36m<module>\u001b[0;34m\u001b[0m\n\u001b[0;32m----> 1\u001b[0;31m \u001b[0mprotagonistas\u001b[0m\u001b[0;34m[\u001b[0m\u001b[0;34m\"Rachel\"\u001b[0m\u001b[0;34m]\u001b[0m\u001b[0;34m[\u001b[0m\u001b[0;34m\"apellido\"\u001b[0m\u001b[0;34m]\u001b[0m\u001b[0;34m\u001b[0m\u001b[0;34m\u001b[0m\u001b[0m\n\u001b[0m",
      "\u001b[0;31mKeyError\u001b[0m: 'apellido'"
     ]
    }
   ],
   "source": [
    "protagonistas[\"Rachel\"][\"apellido\"]"
   ]
  },
  {
   "cell_type": "markdown",
   "id": "45d578e2",
   "metadata": {},
   "source": [
    "Una estrategia clave para trabajar con diccionarios es la consistencia. Modificar un diccionario para que todos los elementos tengan la misma estructura es una buena práctica, incluso si los valores de algunos elementos son nulos.\n",
    "\n",
    "### Eliminando elementos de un diccionario\n",
    "\n",
    "Para eliminar elementos de un diccionario, podemos usar la instrucción `del`. Por ejemplo, para eliminar el apellido de Chandler:"
   ]
  },
  {
   "cell_type": "code",
   "execution_count": 9,
   "id": "7d451396",
   "metadata": {},
   "outputs": [
    {
     "data": {
      "text/plain": [
       "{'nombre': 'Matthew Perry',\n",
       " 'año_nacimiento': 1969,\n",
       " 'nacionalidad': 'Estadounidense',\n",
       " 'género': 'Masculino'}"
      ]
     },
     "execution_count": 9,
     "metadata": {},
     "output_type": "execute_result"
    }
   ],
   "source": [
    "del protagonistas[\"Chandler\"][\"apellido\"]\n",
    "protagonistas[\"Chandler\"]"
   ]
  },
  {
   "cell_type": "markdown",
   "id": "3f7defef",
   "metadata": {},
   "source": [
    "Volvimos al diccionario original :D\n",
    "\n",
    "### Modificar los valores de un diccionario\n",
    "\n",
    "Para modificar los valores de un diccionario, podemos usar la sintaxis `diccionario[clave] = valor`. Por ejemplo, para modificar el nombre de la actriz que interpretó a Rachel:"
   ]
  },
  {
   "cell_type": "code",
   "execution_count": 10,
   "id": "57dcf429",
   "metadata": {},
   "outputs": [
    {
     "data": {
      "text/plain": [
       "{'nombre': 'Jennifer Joanna Aniston',\n",
       " 'año_nacimiento': 1969,\n",
       " 'nacionalidad': 'Estadounidense',\n",
       " 'género': 'Femenino'}"
      ]
     },
     "execution_count": 10,
     "metadata": {},
     "output_type": "execute_result"
    }
   ],
   "source": [
    "protagonistas[\"Rachel\"][\"nombre\"] = \"Jennifer Joanna Aniston\"\n",
    "protagonistas[\"Rachel\"]"
   ]
  },
  {
   "cell_type": "markdown",
   "id": "4bbcba22",
   "metadata": {},
   "source": [
    "Incluso podemos hacer una operación y devolver una nueva clave con la edad de Rachel basados en el año de nacimiento:"
   ]
  },
  {
   "cell_type": "code",
   "execution_count": 11,
   "id": "34697302",
   "metadata": {},
   "outputs": [
    {
     "data": {
      "text/plain": [
       "{'nombre': 'Jennifer Joanna Aniston',\n",
       " 'año_nacimiento': 1969,\n",
       " 'nacionalidad': 'Estadounidense',\n",
       " 'género': 'Femenino',\n",
       " 'edad': 53}"
      ]
     },
     "execution_count": 11,
     "metadata": {},
     "output_type": "execute_result"
    }
   ],
   "source": [
    "protagonistas[\"Rachel\"][\"edad\"] = 2022 - protagonistas[\"Rachel\"][\"año_nacimiento\"]\n",
    "protagonistas[\"Rachel\"]"
   ]
  },
  {
   "cell_type": "markdown",
   "id": "08cc24f2",
   "metadata": {},
   "source": [
    "## Síntesis\n",
    "\n",
    "Ya abordamos los aspectos básicos de los diccionarios. Hasta ahora, hemos visto cómo modificar elementos individuales de las listas y de los diccionarios. Esta operación sería demasiado tardada si simplemente la hicieramos manualmente, no tendría ningún sentido. \n",
    "\n",
    "Como dijimos al principio, vamos desde lo más simple hasta lo más complejo. Así que ya que descubrimos cómo hacer operaciones básicas con nuestros tipos de datos, vamos a ver en la siguiente sección cómo realizar operaciones repetitivas con *loops*, cómo tomar decisiones con *condicionales* y cómo definir funciones para reutilizar código."
   ]
  }
 ],
 "metadata": {
  "jupytext": {
   "cell_metadata_filter": "-all",
   "formats": "md:myst",
   "text_representation": {
    "extension": ".md",
    "format_name": "myst",
    "format_version": 0.13,
    "jupytext_version": "1.14.0"
   }
  },
  "kernelspec": {
   "display_name": "Python 3 (ipykernel)",
   "language": "python",
   "name": "python3"
  },
  "language_info": {
   "codemirror_mode": {
    "name": "ipython",
    "version": 3
   },
   "file_extension": ".py",
   "mimetype": "text/x-python",
   "name": "python",
   "nbconvert_exporter": "python",
   "pygments_lexer": "ipython3",
   "version": "3.9.7"
  },
  "source_map": [
   14,
   24,
   35,
   45,
   86,
   94,
   96,
   102,
   108,
   112,
   116,
   118,
   124,
   127,
   131,
   133,
   141,
   144,
   152,
   155,
   159,
   162
  ]
 },
 "nbformat": 4,
 "nbformat_minor": 5
}