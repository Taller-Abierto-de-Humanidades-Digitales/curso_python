{
 "cells": [
  {
   "cell_type": "markdown",
   "id": "36efb12b",
   "metadata": {},
   "source": [
    "# Iteraciones (*Loops*)\n",
    "\n",
    "En las actividades anteriores, realizamos algunas operaciones simples con Python. Es sumamente importante aprender a realizar estas acciones, pero adquieren relevancia cuando nos sirven para hacer una tarea repetitiva.\n",
    "\n",
    "Por ejemplo, supongamos que tenemos la cadena de caracteres con los Estados y Capitales de México:"
   ]
  },
  {
   "cell_type": "code",
   "execution_count": 1,
   "id": "3b7771d9",
   "metadata": {},
   "outputs": [],
   "source": [
    "estados = \"Aguascalientes: Aguascalientes, Baja California: Mexicali, Baja California Sur: La Paz, Campeche: Campeche, Chiapas: Tuxla Gutiérrez, Chihuahua: Chihuahua, Ciudad de México: Ciudad de México, Coahuila de Zaragoza: Saltillo, Colima: Colima, Durango: Durango, Estado de México: Toluca de Lerdo, Guanajuato: Guanajuato, Hidalgo: Pachuca de Soto, Jalisco: Guadalajara, Michoacán: Morelia, Morelos: Cuernavaca, Nayarit: Tepic, Nuevo León: Monterrey, Oaxaca: Oaxaca de Juárez, Puebla: Puebla de Zaragoza, Querétaro: Santiago de Querétaro, Quintana Roo: Chetumal, San Luis Potosí: San Luis Potosí, Sinaloa: Culiacán, Sonora: Hermosillo, Tabasco: Villahermosa, Tamaulipas: Ciudad Victoria, Tlaxcala: Tlaxcala, Veracruz: Xalapa, Yucatán: Mérida, Zacatecas: Zacatecas\""
   ]
  },
  {
   "cell_type": "markdown",
   "id": "7662b314",
   "metadata": {},
   "source": [
    "Si queremos separar los estados y capitales, podemos hacerlo de la siguiente manera:"
   ]
  },
  {
   "cell_type": "code",
   "execution_count": 2,
   "id": "838fe11a",
   "metadata": {},
   "outputs": [],
   "source": [
    "estados = estados.split(\", \")"
   ]
  },
  {
   "cell_type": "markdown",
   "id": "2cf6aded",
   "metadata": {},
   "source": [
    "Con este método, estamos separando (*split*) la cadena de caracteres de acuerdo con un delimitador (*\", \"*). Esto nos da como resultado una lista. Cada uno de los elementos obtenidos es una cadena de caracteres que contiene un estado y su capital.\n",
    "\n",
    "Ahora, necesitaremos separar cada uno de estos elementos en dos cadenas de caracteres, una para el estado y otra para la capital. Para esto, podemos utilizar el método *split* de nuevo, pero esta vez con un delimitador diferente (*\":\"*).\n",
    "\n",
    "El problema está en que si aplico esto a la lista en general me dará un error:"
   ]
  },
  {
   "cell_type": "code",
   "execution_count": 3,
   "id": "94063a74",
   "metadata": {},
   "outputs": [
    {
     "ename": "AttributeError",
     "evalue": "'list' object has no attribute 'split'",
     "output_type": "error",
     "traceback": [
      "\u001b[0;31m---------------------------------------------------------------------------\u001b[0m",
      "\u001b[0;31mAttributeError\u001b[0m                            Traceback (most recent call last)",
      "\u001b[0;32m/var/folders/6z/cjmzygfj49d6yzn_qgny7hgr0000gp/T/ipykernel_32278/3763931042.py\u001b[0m in \u001b[0;36m<module>\u001b[0;34m\u001b[0m\n\u001b[0;32m----> 1\u001b[0;31m \u001b[0mestados\u001b[0m \u001b[0;34m=\u001b[0m \u001b[0mestados\u001b[0m\u001b[0;34m.\u001b[0m\u001b[0msplit\u001b[0m\u001b[0;34m(\u001b[0m\u001b[0;34m\": \"\u001b[0m\u001b[0;34m)\u001b[0m\u001b[0;34m\u001b[0m\u001b[0;34m\u001b[0m\u001b[0m\n\u001b[0m",
      "\u001b[0;31mAttributeError\u001b[0m: 'list' object has no attribute 'split'"
     ]
    }
   ],
   "source": [
    "estados = estados.split(\": \")"
   ]
  },
  {
   "cell_type": "markdown",
   "id": "abf9cf93",
   "metadata": {},
   "source": [
    "Por esa razón, tendré que aplicar a cada uno de los elementos de la lista esta separación. Podemos hacerlo caso por caso, pero esto sería muy tedioso. Para ello, utilizaremos un *for loop*.\n",
    "\n",
    "## For loops\n",
    "\n",
    "Un *for loop* es una estructura de control que nos permite repetir una acción un número determinado de veces. En Python, se utiliza la palabra reservada *for* para indicar que se va a realizar una iteración.\n",
    "\n",
    "Apliquemos esta idea en la lista de Estados y capitales:"
   ]
  },
  {
   "cell_type": "code",
   "execution_count": 4,
   "id": "0f6d84de",
   "metadata": {},
   "outputs": [
    {
     "name": "stdout",
     "output_type": "stream",
     "text": [
      "['Aguascalientes', 'Aguascalientes']\n",
      "['Baja California', 'Mexicali']\n",
      "['Baja California Sur', 'La Paz']\n",
      "['Campeche', 'Campeche']\n",
      "['Chiapas', 'Tuxla Gutiérrez']\n",
      "['Chihuahua', 'Chihuahua']\n",
      "['Ciudad de México', 'Ciudad de México']\n",
      "['Coahuila de Zaragoza', 'Saltillo']\n",
      "['Colima', 'Colima']\n",
      "['Durango', 'Durango']\n",
      "['Estado de México', 'Toluca de Lerdo']\n",
      "['Guanajuato', 'Guanajuato']\n",
      "['Hidalgo', 'Pachuca de Soto']\n",
      "['Jalisco', 'Guadalajara']\n",
      "['Michoacán', 'Morelia']\n",
      "['Morelos', 'Cuernavaca']\n",
      "['Nayarit', 'Tepic']\n",
      "['Nuevo León', 'Monterrey']\n",
      "['Oaxaca', 'Oaxaca de Juárez']\n",
      "['Puebla', 'Puebla de Zaragoza']\n",
      "['Querétaro', 'Santiago de Querétaro']\n",
      "['Quintana Roo', 'Chetumal']\n",
      "['San Luis Potosí', 'San Luis Potosí']\n",
      "['Sinaloa', 'Culiacán']\n",
      "['Sonora', 'Hermosillo']\n",
      "['Tabasco', 'Villahermosa']\n",
      "['Tamaulipas', 'Ciudad Victoria']\n",
      "['Tlaxcala', 'Tlaxcala']\n",
      "['Veracruz', 'Xalapa']\n",
      "['Yucatán', 'Mérida']\n",
      "['Zacatecas', 'Zacatecas']\n"
     ]
    }
   ],
   "source": [
    "for estado in estados:\n",
    "    estado = estado.split(\": \")\n",
    "    print(estado)"
   ]
  },
  {
   "cell_type": "markdown",
   "id": "17a35bc6",
   "metadata": {},
   "source": [
    "Vemos que cada uno de los elementos de la lista se ha separado en un listado de dos elementos. El primer elemento corresponde al Estado y el segundo a su capital.\n",
    "\n",
    "Podríamos, por lo tanto, separar cada uno de estos elementos en dos variables y asignarle una categoría textual para describir su contenido:"
   ]
  },
  {
   "cell_type": "code",
   "execution_count": 5,
   "id": "898a7607",
   "metadata": {},
   "outputs": [
    {
     "name": "stdout",
     "output_type": "stream",
     "text": [
      "['Estado: Aguascalientes', 'Capital: Aguascalientes']\n",
      "['Estado: Baja California', 'Capital: Mexicali']\n",
      "['Estado: Baja California Sur', 'Capital: La Paz']\n",
      "['Estado: Campeche', 'Capital: Campeche']\n",
      "['Estado: Chiapas', 'Capital: Tuxla Gutiérrez']\n",
      "['Estado: Chihuahua', 'Capital: Chihuahua']\n",
      "['Estado: Ciudad de México', 'Capital: Ciudad de México']\n",
      "['Estado: Coahuila de Zaragoza', 'Capital: Saltillo']\n",
      "['Estado: Colima', 'Capital: Colima']\n",
      "['Estado: Durango', 'Capital: Durango']\n",
      "['Estado: Estado de México', 'Capital: Toluca de Lerdo']\n",
      "['Estado: Guanajuato', 'Capital: Guanajuato']\n",
      "['Estado: Hidalgo', 'Capital: Pachuca de Soto']\n",
      "['Estado: Jalisco', 'Capital: Guadalajara']\n",
      "['Estado: Michoacán', 'Capital: Morelia']\n",
      "['Estado: Morelos', 'Capital: Cuernavaca']\n",
      "['Estado: Nayarit', 'Capital: Tepic']\n",
      "['Estado: Nuevo León', 'Capital: Monterrey']\n",
      "['Estado: Oaxaca', 'Capital: Oaxaca de Juárez']\n",
      "['Estado: Puebla', 'Capital: Puebla de Zaragoza']\n",
      "['Estado: Querétaro', 'Capital: Santiago de Querétaro']\n",
      "['Estado: Quintana Roo', 'Capital: Chetumal']\n",
      "['Estado: San Luis Potosí', 'Capital: San Luis Potosí']\n",
      "['Estado: Sinaloa', 'Capital: Culiacán']\n",
      "['Estado: Sonora', 'Capital: Hermosillo']\n",
      "['Estado: Tabasco', 'Capital: Villahermosa']\n",
      "['Estado: Tamaulipas', 'Capital: Ciudad Victoria']\n",
      "['Estado: Tlaxcala', 'Capital: Tlaxcala']\n",
      "['Estado: Veracruz', 'Capital: Xalapa']\n",
      "['Estado: Yucatán', 'Capital: Mérida']\n",
      "['Estado: Zacatecas', 'Capital: Zacatecas']\n"
     ]
    }
   ],
   "source": [
    "for estado in estados:\n",
    "    estado = estado.split(\": \")\n",
    "    estado[0] = \"Estado: \" + estado[0]\n",
    "    estado[1] = \"Capital: \" + estado[1]\n",
    "    print(estado)"
   ]
  },
  {
   "cell_type": "markdown",
   "id": "dd336b4e",
   "metadata": {},
   "source": [
    "Incluso, podemos crear un diccionario, para que de esa manera podamos acceder a los elementos de manera más sencilla:"
   ]
  },
  {
   "cell_type": "code",
   "execution_count": 6,
   "id": "40e90018",
   "metadata": {},
   "outputs": [
    {
     "name": "stdout",
     "output_type": "stream",
     "text": [
      "{'Aguascalientes': 'Aguascalientes', 'Baja California': 'Mexicali', 'Baja California Sur': 'La Paz', 'Campeche': 'Campeche', 'Chiapas': 'Tuxla Gutiérrez', 'Chihuahua': 'Chihuahua', 'Ciudad de México': 'Ciudad de México', 'Coahuila de Zaragoza': 'Saltillo', 'Colima': 'Colima', 'Durango': 'Durango', 'Estado de México': 'Toluca de Lerdo', 'Guanajuato': 'Guanajuato', 'Hidalgo': 'Pachuca de Soto', 'Jalisco': 'Guadalajara', 'Michoacán': 'Morelia', 'Morelos': 'Cuernavaca', 'Nayarit': 'Tepic', 'Nuevo León': 'Monterrey', 'Oaxaca': 'Oaxaca de Juárez', 'Puebla': 'Puebla de Zaragoza', 'Querétaro': 'Santiago de Querétaro', 'Quintana Roo': 'Chetumal', 'San Luis Potosí': 'San Luis Potosí', 'Sinaloa': 'Culiacán', 'Sonora': 'Hermosillo', 'Tabasco': 'Villahermosa', 'Tamaulipas': 'Ciudad Victoria', 'Tlaxcala': 'Tlaxcala', 'Veracruz': 'Xalapa', 'Yucatán': 'Mérida', 'Zacatecas': 'Zacatecas'}\n"
     ]
    }
   ],
   "source": [
    "estados_dict = {}\n",
    "\n",
    "for estado in estados:\n",
    "    estado = estado.split(\": \")\n",
    "    estados_dict[estado[0]] = estado[1]\n",
    "\n",
    "print(estados_dict)"
   ]
  },
  {
   "cell_type": "markdown",
   "id": "dd06d5cb",
   "metadata": {},
   "source": [
    "En este caso, si quisiera saber la capital de un estado, puedo hacerlo de la siguiente manera:"
   ]
  },
  {
   "cell_type": "code",
   "execution_count": 7,
   "id": "c18fc9e2",
   "metadata": {},
   "outputs": [
    {
     "data": {
      "text/plain": [
       "'Tuxla Gutiérrez'"
      ]
     },
     "execution_count": 7,
     "metadata": {},
     "output_type": "execute_result"
    }
   ],
   "source": [
    "estados_dict[\"Chiapas\"]"
   ]
  },
  {
   "cell_type": "markdown",
   "id": "63b8860a",
   "metadata": {},
   "source": [
    "Vamos a ver con más detalle qué hicimos en el ejercicio anterior.\n",
    "\n",
    "### Iteración sobre una lista\n",
    "\n",
    "En el ejemplo anterior, iteramos sobre una lista. Esto significa que, para cada uno de los elementos de la lista, se ejecutó el código que se encuentra dentro del *for loop*.\n",
    "\n",
    "Es decir, es como si hubiéramos escrito el código de la siguiente manera:"
   ]
  },
  {
   "cell_type": "code",
   "execution_count": 8,
   "id": "d80045be",
   "metadata": {},
   "outputs": [
    {
     "name": "stdout",
     "output_type": "stream",
     "text": [
      "['Estado: Aguascalientes', 'Capital: Aguascalientes']\n",
      "['Estado: Baja California', 'Capital: Mexicali']\n"
     ]
    }
   ],
   "source": [
    "estado1 = estados[0]\n",
    "estado1 = estado1.split(\": \")\n",
    "estado1[0] = \"Estado: \" + estado1[0]\n",
    "estado1[1] = \"Capital: \" + estado1[1]\n",
    "print(estado1)\n",
    "\n",
    "estado2 = estados[1]\n",
    "estado2 = estado2.split(\": \")\n",
    "estado2[0] = \"Estado: \" + estado2[0]\n",
    "estado2[1] = \"Capital: \" + estado2[1]\n",
    "print(estado2)\n",
    "\n",
    "# y así sucesivamente\n"
   ]
  },
  {
   "cell_type": "markdown",
   "id": "d2e8c483",
   "metadata": {},
   "source": [
    "Claramente, escribir el código de esa manera no sería para nada práctico, de hecho sería más lento y difícil que hacerlo a mano directamente.\n",
    "\n",
    "Las iteraciones o *loops* son una herramienta muy poderosa que nos permite automatizar procesos repetitivos y hacerlos más eficientes.\n",
    "\n",
    "## Crear listas a partir de iteraciones\n",
    "\n",
    "Supongamos que no queremos separar los elementos de la lista, sino recuperar únicamente los elementos que corresponden a las capitales de los Estados. En este caso, lo que haremos será crear una lista vacía y agregar a esta lista cada una de las capitales que se encuentren en la lista de Estados y capitales."
   ]
  },
  {
   "cell_type": "code",
   "execution_count": 9,
   "id": "630b62a8",
   "metadata": {},
   "outputs": [
    {
     "name": "stdout",
     "output_type": "stream",
     "text": [
      "['Aguascalientes', 'Mexicali', 'La Paz', 'Campeche', 'Tuxla Gutiérrez', 'Chihuahua', 'Ciudad de México', 'Saltillo', 'Colima', 'Durango', 'Toluca de Lerdo', 'Guanajuato', 'Pachuca de Soto', 'Guadalajara', 'Morelia', 'Cuernavaca', 'Tepic', 'Monterrey', 'Oaxaca de Juárez', 'Puebla de Zaragoza', 'Santiago de Querétaro', 'Chetumal', 'San Luis Potosí', 'Culiacán', 'Hermosillo', 'Villahermosa', 'Ciudad Victoria', 'Tlaxcala', 'Xalapa', 'Mérida', 'Zacatecas']\n"
     ]
    }
   ],
   "source": [
    "capitales = []\n",
    "\n",
    "for estado in estados:\n",
    "    estado = estado.split(\": \")\n",
    "    capitales.append(estado[1])\n",
    "\n",
    "print(capitales)"
   ]
  },
  {
   "cell_type": "markdown",
   "id": "43b95b0e",
   "metadata": {},
   "source": [
    "Esta es una tarea muy recurrida y que nos puede servir para separar elementos a partir de un identificador común. Por ejemplo, si tenemos una lista de nombres de personas y queremos separar los nombres de los apellidos, podemos hacerlo de la siguiente manera:"
   ]
  },
  {
   "cell_type": "code",
   "execution_count": 10,
   "id": "56e962dd",
   "metadata": {},
   "outputs": [
    {
     "name": "stdout",
     "output_type": "stream",
     "text": [
      "['Pérez', 'López', 'Pérez', 'García', 'Hernández', 'Martínez', 'García', 'Hernández', 'Martínez', 'Pérez']\n"
     ]
    }
   ],
   "source": [
    "nombres = [\"Juan Pérez\", \"María López\", \"Pedro Pérez\", \"Ana García\", \"José Hernández\", \"María Martínez\", \"Pedro García\", \"Ana Hernández\", \"José Martínez\", \"María Pérez\"]\n",
    "\n",
    "apellidos = []\n",
    "\n",
    "for nombre in nombres:\n",
    "    nombre = nombre.split(\" \")\n",
    "    apellidos.append(nombre[1])\n",
    "\n",
    "print(apellidos)"
   ]
  },
  {
   "cell_type": "markdown",
   "id": "07f66f67",
   "metadata": {},
   "source": [
    "Y con esta lista, podemos hacer una operación como contar cuántas veces se repite cada apellido:"
   ]
  },
  {
   "cell_type": "code",
   "execution_count": 11,
   "id": "c09b900e",
   "metadata": {},
   "outputs": [
    {
     "data": {
      "text/plain": [
       "Counter({'Pérez': 3, 'López': 1, 'García': 2, 'Hernández': 2, 'Martínez': 2})"
      ]
     },
     "execution_count": 11,
     "metadata": {},
     "output_type": "execute_result"
    }
   ],
   "source": [
    "from collections import Counter\n",
    "\n",
    "Counter(apellidos)"
   ]
  },
  {
   "cell_type": "markdown",
   "id": "f63cc4ce",
   "metadata": {},
   "source": [
    "Los *for loops* son una herramienta tan ampliamente utilizada que incluso se recomienda no utilizarlos cuando no sea necesario, ya que pueden hacer que el código sea más lento.\n",
    "\n",
    "## Listas de comprensión\n",
    "\n",
    "Esta es un concepto un poquito más avanzado, pero que es muy útil para crear listas a partir de iteraciones. En lugar de crear una lista vacía y agregar elementos a esta lista, podemos crear una lista a partir de una iteración."
   ]
  },
  {
   "cell_type": "code",
   "execution_count": 12,
   "id": "b465ce27",
   "metadata": {},
   "outputs": [
    {
     "name": "stdout",
     "output_type": "stream",
     "text": [
      "['Aguascalientes', 'Mexicali', 'La Paz', 'Campeche', 'Tuxla Gutiérrez', 'Chihuahua', 'Ciudad de México', 'Saltillo', 'Colima', 'Durango', 'Toluca de Lerdo', 'Guanajuato', 'Pachuca de Soto', 'Guadalajara', 'Morelia', 'Cuernavaca', 'Tepic', 'Monterrey', 'Oaxaca de Juárez', 'Puebla de Zaragoza', 'Santiago de Querétaro', 'Chetumal', 'San Luis Potosí', 'Culiacán', 'Hermosillo', 'Villahermosa', 'Ciudad Victoria', 'Tlaxcala', 'Xalapa', 'Mérida', 'Zacatecas']\n"
     ]
    }
   ],
   "source": [
    "capitales = [estado.split(\": \")[1] for estado in estados]\n",
    "\n",
    "print(capitales)"
   ]
  },
  {
   "cell_type": "markdown",
   "id": "960c7257",
   "metadata": {},
   "source": [
    "Realizamos exactamente la misma tarea que en el ejercicio anterior, pero ahorramos unas cuantas líneas de código. Básicamente tomamos la declaración del loop (`for estado in estados`) y la pasamos al \"final\" de la lista. A la vez, pusimos en primer lugar la operación que haremos con la iteración [`estado.split(\": \"](1)`). Para que funcione, ponemos esta operación entre corchetes (`[]`).\n",
    "\n",
    "No toda iteración puede escribirse de esta manera, pero en general se hace con aquella que implican una operación sencilla.\n",
    "\n",
    "No esperamos que domines inmediatamente este concepto, pero estoy seguro que lo encontrarás en ejemplos y en tutoriales de Python, por eso es bueno que lo tengas en cuenta.\n",
    "\n",
    "## While loops\n",
    "\n",
    "Los *while loops* son otra estrategia para realizar iteraciones. En general, son menos utilizados que los *for loops*, pero pueden ser muy útiles en ciertas situaciones. Por ejemplo, cuando no sabemos cuántas veces se va a repetir un proceso.\n",
    "\n",
    "Los *while loops* se ejecutan mientras una condición sea verdadera. Por ejemplo, si queremos imprimir los números del 1 al 10, podemos hacerlo de la siguiente manera:"
   ]
  },
  {
   "cell_type": "code",
   "execution_count": 13,
   "id": "95f19e07",
   "metadata": {},
   "outputs": [
    {
     "name": "stdout",
     "output_type": "stream",
     "text": [
      "1\n",
      "2\n",
      "3\n",
      "4\n",
      "5\n",
      "6\n",
      "7\n",
      "8\n",
      "9\n",
      "10\n"
     ]
    }
   ],
   "source": [
    "i = 1\n",
    "\n",
    "while i <= 10:\n",
    "    print(i)\n",
    "    i += 1"
   ]
  },
  {
   "cell_type": "markdown",
   "id": "a79ab00f",
   "metadata": {},
   "source": [
    "En este caso, la condición es que `i` sea menor o igual a 10. En cada iteración, se imprime el valor de `i` y se le suma 1. Cuando `i` ya no es menor o igual a 10, el *while loop* se detiene.\n",
    "\n",
    "```{admonition} Precaución\n",
    ":class: warning\n",
    "\n",
    "Es importante que en cada iteración se modifique la variable que se utiliza en la condición, de lo contrario el *while loop* se ejecutará indefinidamente. Eso es lo que se denomina como un *loop infinito*.\n",
    "```\n",
    "\n",
    "## Síntesis\n",
    "\n",
    "Estos son algunos de los aspectos básicos de las iteraciones en Python. En general, recurriremos a ellas de manera continua porque son uno de los fundamentos de la programación.\n",
    "\n",
    "En el siguiente segmento, veremos los condicionales, que combinados con los *loops* nos permitirán crear programas más complejos."
   ]
  }
 ],
 "metadata": {
  "jupytext": {
   "cell_metadata_filter": "-all",
   "formats": "md:myst",
   "text_representation": {
    "extension": ".md",
    "format_name": "myst",
    "format_version": 0.13,
    "jupytext_version": "1.14.0"
   }
  },
  "kernelspec": {
   "display_name": "Python 3 (ipykernel)",
   "language": "python",
   "name": "python3"
  },
  "language_info": {
   "codemirror_mode": {
    "name": "ipython",
    "version": 3
   },
   "file_extension": ".py",
   "mimetype": "text/x-python",
   "name": "python",
   "nbconvert_exporter": "python",
   "pygments_lexer": "ipython3",
   "version": "3.9.7"
  },
  "source_map": [
   14,
   22,
   24,
   28,
   30,
   38,
   40,
   50,
   54,
   60,
   66,
   70,
   78,
   82,
   84,
   94,
   109,
   119,
   127,
   131,
   141,
   145,
   149,
   157,
   161,
   175,
   181
  ]
 },
 "nbformat": 4,
 "nbformat_minor": 5
}