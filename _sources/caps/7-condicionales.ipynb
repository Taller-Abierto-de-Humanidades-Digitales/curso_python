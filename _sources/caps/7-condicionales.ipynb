{
 "cells": [
  {
   "cell_type": "markdown",
   "id": "c4d5665f",
   "metadata": {},
   "source": [
    "# Condicionales\n",
    "\n",
    "Los condicionales nos permiten evaluar la verdad o falsedad lógica de una expresión para tomar decisiones en nuestro código. En Python, los condicionales se escriben con la palabra reservada `if` y se cierran con la palabra reservada `else`."
   ]
  },
  {
   "cell_type": "code",
   "execution_count": 1,
   "id": "dd24c5bb",
   "metadata": {},
   "outputs": [
    {
     "name": "stdout",
     "output_type": "stream",
     "text": [
      "1 es igual a 1\n"
     ]
    }
   ],
   "source": [
    "if 1 == 1:\n",
    "    print(\"1 es igual a 1\")\n",
    "else:\n",
    "    print(\"1 no es igual a 1\")"
   ]
  },
  {
   "cell_type": "markdown",
   "id": "51a5c72a",
   "metadata": {},
   "source": [
    "Como en todos los casos, estas condiciones también pueden ser aplicadas a texto:"
   ]
  },
  {
   "cell_type": "code",
   "execution_count": 2,
   "id": "645f90e8",
   "metadata": {},
   "outputs": [
    {
     "name": "stdout",
     "output_type": "stream",
     "text": [
      "Hola, tu no eres Juan\n"
     ]
    }
   ],
   "source": [
    "nombre = \"Ana\"\n",
    "\n",
    "if nombre == \"Juan\":\n",
    "    print(\"Hola, Juan\")\n",
    "else:\n",
    "    print(\"Hola, tu no eres Juan\")"
   ]
  },
  {
   "cell_type": "markdown",
   "id": "946a0801",
   "metadata": {},
   "source": [
    "Incluso, esta condición se puede realizar de manera que determine si la condición es falsa:"
   ]
  },
  {
   "cell_type": "code",
   "execution_count": 3,
   "id": "4661c1d0",
   "metadata": {},
   "outputs": [
    {
     "name": "stdout",
     "output_type": "stream",
     "text": [
      "Hola, Ana\n"
     ]
    }
   ],
   "source": [
    "if nombre != \"Juan\":\n",
    "    print(\"Hola, Ana\")\n",
    "else:\n",
    "    print(\"Hola, Juan\")"
   ]
  },
  {
   "cell_type": "markdown",
   "id": "b2a59d20",
   "metadata": {},
   "source": [
    "Por otra parte, un condicional nos puede ayudar a modificar el valor de una variable de acuerdo con ciertas condiciones. Por ejemplo, en el siguiente caso queremos que la variable `nombre` tome el valor de \"Juan\" si el valor de la variable `edad` es mayor a 18, y que tome el valor de \"Ana\" si el valor de la variable `edad` es menor a 18."
   ]
  },
  {
   "cell_type": "code",
   "execution_count": 4,
   "id": "35da70c0",
   "metadata": {},
   "outputs": [
    {
     "name": "stdout",
     "output_type": "stream",
     "text": [
      "Juan\n"
     ]
    }
   ],
   "source": [
    "edad = 20\n",
    "\n",
    "if edad > 18:\n",
    "    nombre = \"Juan\"\n",
    "else:\n",
    "    nombre = \"Ana\"\n",
    "\n",
    "print(nombre)"
   ]
  },
  {
   "cell_type": "markdown",
   "id": "1f5132b4",
   "metadata": {},
   "source": [
    "## Condicionales + listas + iteraciones\n",
    "\n",
    "Los condicionales también pueden ser utilizados en conjunto con listas y iteraciones. Por ejemplo, supongamos que tenemos una lista de nombres y queremos separar los nombres que empiezan con la letra \"A\" de los que no. Para esto, podemos crear dos listas vacías y agregar a cada una de ellas los nombres que empiecen con la letra \"A\" y los que no, respectivamente."
   ]
  },
  {
   "cell_type": "code",
   "execution_count": 5,
   "id": "f69b3ae6",
   "metadata": {},
   "outputs": [
    {
     "name": "stdout",
     "output_type": "stream",
     "text": [
      "['Ana', 'Andrea', 'Antonio']\n",
      "['Juan', 'Pedro', 'Sofía']\n"
     ]
    }
   ],
   "source": [
    "nombres = [\"Ana\", \"Juan\", \"Pedro\", \"Andrea\", \"Sofía\", \"Antonio\"]\n",
    "\n",
    "nombres_con_a = []\n",
    "nombres_sin_a = []\n",
    "\n",
    "for nombre in nombres:\n",
    "    if nombre[0] == \"A\":\n",
    "        nombres_con_a.append(nombre)\n",
    "    else:\n",
    "        nombres_sin_a.append(nombre)\n",
    "\n",
    "print(nombres_con_a)\n",
    "print(nombres_sin_a)"
   ]
  },
  {
   "cell_type": "markdown",
   "id": "151f558b",
   "metadata": {},
   "source": [
    "En el caso anterior, utilizamos muchos de los conceptos que hemos visto hasta ahora. Por ejemplo, utilizamos la iteración `for` para recorrer la lista de nombres, y utilizamos la condición `if` para determinar si el nombre empieza con la letra \"A\" o no, para lo cual recurrimos a una segmentación de la cadena de caracteres. Además, utilizamos la función `append` para agregar elementos a las listas `nombres_con_a` y `nombres_sin_a`.\n",
    "\n",
    "Podríamos hacer otro tipo de operaciones similares y un poco más compleja, por ejemplo, encontrar los años en una frase textual. Para esto, podemos utilizar la función `split` para separar la frase en palabras y luego iterar sobre cada una de ellas para determinar si es un número o no."
   ]
  },
  {
   "cell_type": "code",
   "execution_count": 6,
   "id": "5591403d",
   "metadata": {},
   "outputs": [
    {
     "data": {
      "text/plain": [
       "['2020']"
      ]
     },
     "execution_count": 6,
     "metadata": {},
     "output_type": "execute_result"
    }
   ],
   "source": [
    "frase = \"En el año 2020, el mundo se enfrentó a una pandemia que cambió la vida de todos.\"\n",
    "\n",
    "palabras = frase.split()\n",
    "\n",
    "años = []\n",
    "\n",
    "for palabra in palabras:\n",
    "  palabra = palabra.replace(',', '')\n",
    "  if palabra.isnumeric():\n",
    "    años.append(palabra)\n",
    "\n",
    "años"
   ]
  },
  {
   "cell_type": "markdown",
   "id": "211b461f",
   "metadata": {},
   "source": [
    "En el caso anterior, utilizamos la función `replace` para eliminar la coma de la palabra \"2020,\" y luego utilizamos la función `isnumeric` para determinar si la palabra es un número o no. Solamente en los casos en los que el resultado es verdadero, agregamos la palabra a la lista `años`.\n",
    "\n",
    "Este caso es sencillo, pero intentemos con uno un poco más complejo. Supongamos que queremos extraer las fechas de una pequeña biografía de [Cervantes Saavedra](https://es.wikipedia.org/wiki/Miguel_de_Cervantes#Infancia_y_juventud):"
   ]
  },
  {
   "cell_type": "code",
   "execution_count": 7,
   "id": "de668120",
   "metadata": {},
   "outputs": [],
   "source": [
    "bio = \"El padre del escritor era Rodrigo de Cervantes (1509-1585), casado con Leonor de Cortinas, de la cual apenas se sabe nada, excepto que era natural de Arganda del Rey.11​ Los hermanos de Cervantes fueron Andrés (1543), Andrea (1544), Luisa (1546), que llegó a ser priora de un convento carmelita; Rodrigo (1550), también soldado, que le acompañó en el cautiverio argelino; Magdalena (1554) y Juan, solo conocido porque su padre lo menciona en el testamento.\""
   ]
  },
  {
   "cell_type": "markdown",
   "id": "797c2b97",
   "metadata": {},
   "source": [
    "Para conseguir lo anterior, debemos realizar varias operaciones:\n",
    "\n",
    "1. Separar la biografía en palabras (`split()`).\n",
    "2. Eliminar la puntuación de cada palabra (`replace()`). De otra manera, no identificaría una fecha como \"(1543)\".\n",
    "3. En caso de que la palabra tenga el formato \"AAAA-AAAA\", separarla en dos palabras (`split('-')`) y agregar ambas a la lista de fechas (`append()`).\n",
    "4. Determinar si la palabra es un número (`isnumeric()`).\n",
    "5. Agregar la palabra a la lista de fechas (`append()`)."
   ]
  },
  {
   "cell_type": "code",
   "execution_count": 8,
   "id": "cb87d406",
   "metadata": {},
   "outputs": [
    {
     "data": {
      "text/plain": [
       "['1509', '1585', '1543', '1544', '1546', '1550', '1554']"
      ]
     },
     "execution_count": 8,
     "metadata": {},
     "output_type": "execute_result"
    }
   ],
   "source": [
    "palabras = bio.split()\n",
    "\n",
    "fechas = []\n",
    "\n",
    "for palabra in palabras:\n",
    "  palabra = palabra.replace(',', '')\n",
    "  palabra = palabra.replace(';', '')\n",
    "  palabra = palabra.replace('(', '')\n",
    "  palabra = palabra.replace(')', '')\n",
    "  palabra = palabra.replace('​', '')\n",
    "  palabra = palabra.replace('11', '') # Esto se podría hacer de manera más \"elegante\", pero por ahora funciona.\n",
    "  if palabra.isnumeric():\n",
    "    fechas.append(palabra)\n",
    "  elif '-' in palabra: # Esto es un condicional anidado.\n",
    "    rango = palabra.split('-') # Esto es una segmentación.\n",
    "    for r in rango: # Esto es una iteración anidada.\n",
    "      if r.isnumeric(): \n",
    "        fechas.append(r)\n",
    "\n",
    "fechas"
   ]
  },
  {
   "cell_type": "markdown",
   "id": "1841bb04",
   "metadata": {},
   "source": [
    "Vemos que gracias a los condicionales podemos realizar operaciones más complejas, incluso cuando no tenemos todavía claro qué resultado vamos a obtener. De hecho, podríamos simplemente ampliar o cambiar el párrafo que utilizamos y encontraríamos las fechas de la nueva biografía.\n",
    "\n",
    "```{admonition} Próximamente\n",
    ":class: tip\n",
    "\n",
    "En una próxima sesión veremos cómo replicar el código a través de funciones. Esto nos permitirá reutilizar nuestro código en múltiples ocasiones.\n",
    "```\n",
    "\n",
    "## Condicionales  + diccionarios\n",
    "\n",
    "Los condicionales también pueden ser utilizados en conjunto con diccionarios. Por ejemplo, supongamos que tenemos un diccionario con los nombres de los alumnos de un curso y sus notas. Queremos saber cuál es la nota más alta y cuál es la nota más baja. Para esto, podemos crear dos variables, una para la nota más alta y otra para la nota más baja, y luego iterar sobre el diccionario para determinar si la nota es mayor o menor que la nota más alta o más baja, respectivamente."
   ]
  },
  {
   "cell_type": "code",
   "execution_count": 9,
   "id": "c5b23674",
   "metadata": {},
   "outputs": [
    {
     "name": "stdout",
     "output_type": "stream",
     "text": [
      "La nota más alta es 9\n",
      "La nota más baja es 4\n"
     ]
    }
   ],
   "source": [
    "notas = {\"Ana\": 7, \"Juan\": 5, \"Pedro\": 8, \"Andrea\": 9, \"Sofía\": 6, \"Antonio\": 4}\n",
    "\n",
    "nota_mas_alta = 0\n",
    "nota_mas_baja = 10\n",
    "\n",
    "for alumno, nota in notas.items(): # Iteramos sobre el diccionario\n",
    "  if nota > nota_mas_alta:\n",
    "    nota_mas_alta = nota\n",
    "  if nota < nota_mas_baja:\n",
    "    nota_mas_baja = nota\n",
    "\n",
    "print(\"La nota más alta es\", nota_mas_alta)\n",
    "print(\"La nota más baja es\", nota_mas_baja)"
   ]
  },
  {
   "cell_type": "markdown",
   "id": "b7b2a320",
   "metadata": {},
   "source": [
    "En el caso anterior, utilizamos dos condicionales `if` para determinar si la nota es mayor o menor que la nota más alta o más baja, respectivamente. En el caso de que la nota sea mayor que la nota más alta, actualizamos la variable `nota_mas_alta` con el valor de la nota. De forma similar, en el caso de que la nota sea menor que la nota más baja, actualizamos la variable `nota_mas_baja` con el valor de la nota.\n",
    "\n",
    "De una manera similar, podríamos hacer un programa que saludara a cada usuario y determinara si la persona es de género fenemino (\"Bienvenida\"), masculino (\"Bienvenido\") o no binario (\"Bienvenidx\")."
   ]
  },
  {
   "cell_type": "code",
   "execution_count": 10,
   "id": "0635bf90",
   "metadata": {},
   "outputs": [
    {
     "name": "stdout",
     "output_type": "stream",
     "text": [
      "Bienvenida Ana\n",
      "Bienvenido Juan\n",
      "Bienvenidx Pedro\n",
      "Bienvenida Andrea\n",
      "Bienvenida Sofía\n",
      "Bienvenido Antonio\n"
     ]
    }
   ],
   "source": [
    "usuarios = {\"Ana\": \"Femenino\", \"Juan\": \"Masculino\", \"Pedro\": \"No binario\", \"Andrea\": \"Femenino\", \"Sofía\": \"Femenino\", \"Antonio\": \"Masculino\"}\n",
    "\n",
    "for usuario, genero in usuarios.items():\n",
    "  if genero == \"Femenino\":\n",
    "    print(\"Bienvenida\", usuario)\n",
    "  elif genero == \"Masculino\":\n",
    "    print(\"Bienvenido\", usuario)\n",
    "  else:\n",
    "    print(\"Bienvenidx\", usuario)"
   ]
  },
  {
   "cell_type": "markdown",
   "id": "d9275e69",
   "metadata": {},
   "source": [
    "Esta es una de las grandes utilidades del diccionario, que nos evita la ambigüedad o el generar condiciones lógicas más complejas para determinar si un usuario es de género femenino, masculino o no binario.\n",
    "\n",
    "## Condicionales + listas múltiples\n",
    "\n",
    "En ciertas ocasiones, vamos a querer saber si ciertos elementos de una lista están contenidos en otra. Por ejemplo, si tenemos dos grupos de estudiantes, queremos saber cuáles estudiantes se encuentran inscritos en ambos grupos:"
   ]
  },
  {
   "cell_type": "code",
   "execution_count": 11,
   "id": "dac04942",
   "metadata": {},
   "outputs": [
    {
     "name": "stdout",
     "output_type": "stream",
     "text": [
      "['Ana', 'Juan', 'Pedro', 'Andrea', 'Sofía', 'Antonio']\n"
     ]
    }
   ],
   "source": [
    "grupo_1 = [\"Ana\", \"Juan\", \"Pedro\", \"Andrea\", \"Sofía\", \"Antonio\"]\n",
    "grupo_2 = [\"Ana\", \"Juan\", \"Pedro\", \"Andrea\", \"Sofía\", \"Antonio\", \"María\", \"Luis\"]\n",
    "\n",
    "inscritos_ambos_grupos = []\n",
    "\n",
    "for estudiante in grupo_1:\n",
    "  if estudiante in grupo_2:\n",
    "    inscritos_ambos_grupos.append(estudiante)\n",
    "\n",
    "print(inscritos_ambos_grupos)"
   ]
  },
  {
   "cell_type": "markdown",
   "id": "9747fe59",
   "metadata": {},
   "source": [
    "En general, esta no es una operación muy común. En general se suelen utilizar otros métodos un tanto más sofisticados para determinar si dos listas comparten elementos. Sin embargo, es importante tener en cuenta que esta operación es posible.\n",
    "\n",
    "## Síntesis\n",
    "\n",
    "En esta sección, vimos cómo los condicionales son útiles para encontrar condiciones de verdad que permiten que el flujo del programa tome una dirección particular. En general, con los aspectos que hemos visto hasta ahora es suficiente para poder construir nuestros primeros programas. Sin embargo, nos hace falta una herramienta fundamental para poder programar con toda seguridad: las funciones."
   ]
  }
 ],
 "metadata": {
  "jupytext": {
   "cell_metadata_filter": "-all",
   "formats": "md:myst",
   "text_representation": {
    "extension": ".md",
    "format_name": "myst",
    "format_version": 0.13,
    "jupytext_version": "1.14.0"
   }
  },
  "kernelspec": {
   "display_name": "Python 3 (ipykernel)",
   "language": "python",
   "name": "python3"
  },
  "language_info": {
   "codemirror_mode": {
    "name": "ipython",
    "version": 3
   },
   "file_extension": ".py",
   "mimetype": "text/x-python",
   "name": "python",
   "nbconvert_exporter": "python",
   "pygments_lexer": "ipython3",
   "version": "3.9.7"
  },
  "source_map": [
   14,
   20,
   25,
   29,
   37,
   41,
   46,
   50,
   60,
   66,
   81,
   87,
   101,
   107,
   109,
   119,
   141,
   155,
   170,
   176,
   187,
   195,
   207
  ]
 },
 "nbformat": 4,
 "nbformat_minor": 5
}