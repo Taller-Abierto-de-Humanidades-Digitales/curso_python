{
 "cells": [
  {
   "cell_type": "markdown",
   "id": "2442ebab",
   "metadata": {},
   "source": [
    "# Funciones\n",
    "\n",
    "Vamos a finalizar nuestro curso intensivo con una de las herramientas más poderosas de Python: las funciones [^clases].\n",
    "\n",
    "En términos simples, las funciones son bloques de código que realizan una tarea específica y pueden ser reutilizadas en diferentes partes de nuestro programa \"llamándolas\" por su nombre.\n",
    "\n",
    "Por ejemplo, ¿recuerdas el programa que creamos para saludar a alguien de acuerdo con su nombre y género? Podríamos escribirlo de la siguiente manera:"
   ]
  },
  {
   "cell_type": "code",
   "execution_count": 1,
   "id": "01cffe7b",
   "metadata": {},
   "outputs": [
    {
     "name": "stdout",
     "output_type": "stream",
     "text": [
      "¡Bienvenida, María!\n"
     ]
    }
   ],
   "source": [
    "def saludar(nombre, genero):\n",
    "    \"\"\"Saluda a alguien de acuerdo con su nombre y género\"\"\"\n",
    "    if genero == \"f\":\n",
    "        print(f\"¡Bienvenida, {nombre}!\")\n",
    "    elif genero == \"m\":\n",
    "        print(f\"¡Bienvenido, {nombre}!\")\n",
    "    else:\n",
    "        print(f\"¡Bienvenidx, {nombre}!\")\n",
    "\n",
    "saludar(\"María\", \"f\")"
   ]
  },
  {
   "cell_type": "markdown",
   "id": "d1442cbb",
   "metadata": {},
   "source": [
    "Detengámonos un poco en la sintaxis de este código.\n",
    "\n",
    "En primer lugar, debemos tener en cuenta que una función se define con la palabra reservada `def` seguida del nombre de la función y de los argumentos que recibe entre paréntesis. En este caso, la función `saludar` recibe dos argumentos: `nombre` y `genero`.\n",
    "\n",
    "La cantidad de argumentos que recibe una función no es fija. De hecho, podemos crear una función sin argumentos:"
   ]
  },
  {
   "cell_type": "code",
   "execution_count": 2,
   "id": "d3989005",
   "metadata": {},
   "outputs": [
    {
     "name": "stdout",
     "output_type": "stream",
     "text": [
      "¡Hola!\n"
     ]
    }
   ],
   "source": [
    "def saludar():\n",
    "    \"\"\"Solamente, saluda\"\"\"\n",
    "    print(\"¡Hola!\")\n",
    "\n",
    "saludar()"
   ]
  },
  {
   "cell_type": "markdown",
   "id": "c48eebf2",
   "metadata": {},
   "source": [
    "O con muchos argumentos:"
   ]
  },
  {
   "cell_type": "code",
   "execution_count": 3,
   "id": "80f7a1d7",
   "metadata": {},
   "outputs": [
    {
     "name": "stdout",
     "output_type": "stream",
     "text": [
      "¡Bienvenida, María!\n",
      "Veo que tienes 25 años y vives en Buenos Aires.\n"
     ]
    }
   ],
   "source": [
    "def saludar(nombre, genero, edad, ciudad):\n",
    "    \"\"\"Saluda a alguien de acuerdo con su nombre, género, edad y ciudad\"\"\"\n",
    "    if genero == \"f\":\n",
    "        print(f\"¡Bienvenida, {nombre}!\")\n",
    "    elif genero == \"m\":\n",
    "        print(f\"¡Bienvenido, {nombre}!\")\n",
    "    else:\n",
    "        print(f\"¡Bienvenidx, {nombre}!\")\n",
    "    print(f\"Veo que tienes {edad} años y vives en {ciudad}.\")\n",
    "\n",
    "saludar(\"María\", \"f\", 25, \"Buenos Aires\")"
   ]
  },
  {
   "cell_type": "markdown",
   "id": "18788b48",
   "metadata": {},
   "source": [
    "También podemos determinar un valor predeterminado para los argumentos de una función. En este caso, si no se especifica un valor para el argumento, se utilizará el valor asignado:"
   ]
  },
  {
   "cell_type": "code",
   "execution_count": 4,
   "id": "d4182b05",
   "metadata": {},
   "outputs": [
    {
     "name": "stdout",
     "output_type": "stream",
     "text": [
      "¡Bienvenida, María!\n",
      "Veo que tienes 25 años y vives en Buenos Aires.\n"
     ]
    }
   ],
   "source": [
    "def saludar(nombre, genero, edad=25, ciudad=\"Buenos Aires\"):\n",
    "    \"\"\"Saluda a alguien de acuerdo con su nombre, género, edad y ciudad\"\"\"\n",
    "    if genero == \"f\":\n",
    "        print(f\"¡Bienvenida, {nombre}!\")\n",
    "    elif genero == \"m\":\n",
    "        print(f\"¡Bienvenido, {nombre}!\")\n",
    "    else:\n",
    "        print(f\"¡Bienvenidx, {nombre}!\")\n",
    "    print(f\"Veo que tienes {edad} años y vives en {ciudad}.\")\n",
    "\n",
    "saludar(\"María\", \"f\")"
   ]
  },
  {
   "cell_type": "markdown",
   "id": "254f3510",
   "metadata": {},
   "source": [
    "En este caso, el argumento `edad` toma el valor por defecto de 25 y el argumento `ciudad` toma el valor por defecto de \"Buenos Aires\". Si especificamos un valor para alguno de estos argumentos, se utilizará el valor que le pasamos:"
   ]
  },
  {
   "cell_type": "code",
   "execution_count": 5,
   "id": "0a209607",
   "metadata": {},
   "outputs": [
    {
     "name": "stdout",
     "output_type": "stream",
     "text": [
      "¡Bienvenida, Laura!\n",
      "Veo que tienes 30 años y vives en Ciudad de México.\n"
     ]
    }
   ],
   "source": [
    "saludar(\"Laura\", \"f\", 30, \"Ciudad de México\")"
   ]
  },
  {
   "cell_type": "markdown",
   "id": "6422a3f7",
   "metadata": {},
   "source": [
    "Vemos ahora como la función se comporta de acuerdo con los nuevos valores que le estamos pasando.\n",
    "\n",
    "## Retorno de valores\n",
    "\n",
    "En los ejemplos anteriores, cada función es un programa que termina con la instrucción `print`. No obstante, en la vida real, las funciones se utilizan sobre todo para transformar los datos que reciben y devolver un resultado. Para ello, la función tiene la palabra reservada `return` que indica el valor que se devuelve:"
   ]
  },
  {
   "cell_type": "code",
   "execution_count": 6,
   "id": "f1d3273b",
   "metadata": {},
   "outputs": [
    {
     "name": "stdout",
     "output_type": "stream",
     "text": [
      "¡Bienvenida, María!\n"
     ]
    }
   ],
   "source": [
    "def saludar(nombre, genero):\n",
    "    \"\"\"Saluda a alguien de acuerdo con su nombre y género\"\"\"\n",
    "    if genero == \"f\":\n",
    "        return f\"¡Bienvenida, {nombre}!\"\n",
    "    elif genero == \"m\":\n",
    "        return f\"¡Bienvenido, {nombre}!\"\n",
    "    else:\n",
    "        return f\"¡Bienvenidx, {nombre}!\"\n",
    "\n",
    "saludo = saludar(\"María\", \"f\")\n",
    "print(saludo)"
   ]
  },
  {
   "cell_type": "markdown",
   "id": "5626470d",
   "metadata": {},
   "source": [
    "El comportamiento es similar al de la función `print`, pero en este caso, el valor que devuelve la función se almacena en la variable `saludo` y luego se imprime.\n",
    "\n",
    "Esta es una función sumamente simple, que no tiene una utilidad mayor, pero nos permite entender el concepto de retorno de valores.\n",
    "\n",
    "Es importante entender que una función puede retornar cualquier tipo de valor, incluyendo listas o diccionarios. ¿Recuerdas el ejemplo del condicional que nos permitía extraer las fechas de una corta biografía? En ese caso, podríamos escribir una función que haga lo mismo con cualquier biografía:\n",
    "\n",
    "```{note}\n",
    "La lógica de esta función viene determinada por el tipo de información que le estamos pasando al programa. En este caso, sabemos que las fechas se escriben completas (AAAA) y que no contamos con valores decimales que nos puedan confundir (p. ej, en \"1894.45\" el primer valor - 1894 - es una fecha y el segundo valor - 45 - es un llamado a una nota al pie). Es por tanto una función hecha a propósito para este caso particular.\n",
    "```"
   ]
  },
  {
   "cell_type": "code",
   "execution_count": 7,
   "id": "b7a8ad55",
   "metadata": {},
   "outputs": [],
   "source": [
    "def extraer_fechas(biografia):\n",
    "    \"\"\"\n",
    "    Extrae las fechas de una biografía\n",
    "    Es posible sintetizar mucho más esta función, pero la escribimos de esta manera para leer mejor cada paso\n",
    "    \"\"\"\n",
    "\n",
    "    bio = biografia.split(\" \") # Separamos la biografía en palabras\n",
    "    fechas = []\n",
    "    for palabra in bio:\n",
    "        # eliminamos los signos de puntuación excepto puntos y guiones\n",
    "        palabra = palabra.strip(\",;:()[]{}\") # el método strip elimina los caracteres que le indicamos al inicio o al final de la cadena\n",
    "        if palabra.endswith(\".\"): # el método endswith verifica si la cadena termina con el caracter que le indicamos\n",
    "          palabra = palabra.replace(\".\", \"\")\n",
    "\n",
    "        if len(palabra) > 3 and palabra.isdigit():\n",
    "          fechas.append(int(palabra)) # el método append agrega un elemento a la lista\n",
    "        elif len(palabra) > 5 and \"-\" in palabra: # <-- aquí estamos buscando fechas escritas como AAAA-AAAA\n",
    "          separar_palabras = palabra.split(\"-\")\n",
    "          for sp in separar_palabras:\n",
    "            if sp.isdigit() and len(sp) > 3:\n",
    "              fechas.append(int(sp))\n",
    "        elif len(palabra) > 5 and \".\" in palabra: # <-- aquí estamos buscando valores numéricos que tengan un punto en el medio\n",
    "          separar_palabras = palabra.split(\".\")\n",
    "          for sp in separar_palabras:\n",
    "            if sp.isdigit() and len(sp) > 3:\n",
    "              fechas.append(int(sp))\n",
    "    \n",
    "    return fechas # devolvemos la lista de fechas"
   ]
  },
  {
   "cell_type": "markdown",
   "id": "3b5ec755",
   "metadata": {},
   "source": [
    "Con esta función, ya no tenemos que limitarnos a una biografía, sino que podemos extraer las fechas de cualquier biografía:"
   ]
  },
  {
   "cell_type": "code",
   "execution_count": 8,
   "id": "c9fde477",
   "metadata": {},
   "outputs": [
    {
     "name": "stdout",
     "output_type": "stream",
     "text": [
      "[1547, 1616]\n",
      "[1580, 1645]\n",
      "[1600, 1681]\n"
     ]
    }
   ],
   "source": [
    "# Tomamos el primer párrafo de la biografía en español de Wikipedia\n",
    "\n",
    "Cervantes = \"Miguel de Cervantes Saavedra (Alcalá de Henares,4​ 29 de septiembre de 1547-Madrid, 22 de abril3​ de 1616) fue un novelista, poeta, dramaturgo y soldado español.\"\n",
    "Quevedo = \"Francisco Gómez de Quevedo Villegas y Santibáñez Cevallos (Madrid, 14 de septiembre de 1580-Villanueva de los Infantes, Ciudad Real, 8 de septiembre de 1645) fue un noble, político y escritor español del Siglo de Oro.\"\n",
    "Calderon = \"Pedro Calderón de la Barca (Madrid, 17 de enero de 1600-25 de mayo de 1681) fue un escritor español, sacerdote católico, miembro de la Venerable Congregación de Presbíteros Seculares Naturales de Madrid San Pedro Apóstol y caballero de la Orden de Santiago, conocido fundamentalmente por ser uno de los más insignes literatos barrocos del Siglo de Oro, en especial por su teatro.\"\n",
    "\n",
    "bios = [Cervantes, Quevedo, Calderon]\n",
    "\n",
    "for b in bios:\n",
    "  fechas = extraer_fechas(b)\n",
    "  print(fechas)\n"
   ]
  },
  {
   "cell_type": "markdown",
   "id": "2f8041ec",
   "metadata": {},
   "source": [
    "Vemos que en este caso, la función devuelve una lista de fechas, que luego podemos utilizar para realizar cualquier tipo de análisis.\n",
    "\n",
    "## Síntesis\n",
    "\n",
    "Hemos visto algunos de los aspectos básicos de las funciones en Python. En particular, hemos visto cómo definir una función, cómo pasarle argumentos y cómo devolver un valor. Puedes notar que en este lenguaje de programación, es bastante simple definir funciones y construir las propias.\n",
    "\n",
    "Básicamente, con los conceptos que hemos visto hasta ahora podemos construir programas de cierta complejidad, todo depende del problema que queramos resolver y de los datos que tengamos disponibles.\n",
    "\n",
    "## Notas\n",
    "\n",
    "[^clases]: Obviamente, apenas hemos arañado la superficie. Con estos elementos es posible hacer programas de diferentes niveles. Sin embargo, para poder abarcar un conocimiento básico de Python, también es importante tener en cuenta que existen otros elementos que no hemos visto en este curso. En particular, las clases son un tipo de objeto complejo y permiten crear estructuras de programación más completas. En caso de que quieras profundizar en el tema, te recomiendo mucho el capítulo 9 de {cite}`matthes_python_2016`."
   ]
  }
 ],
 "metadata": {
  "jupytext": {
   "cell_metadata_filter": "-all",
   "formats": "md:myst",
   "text_representation": {
    "extension": ".md",
    "format_name": "myst",
    "format_version": 0.13,
    "jupytext_version": "1.14.0"
   }
  },
  "kernelspec": {
   "display_name": "Python 3 (ipykernel)",
   "language": "python",
   "name": "python3"
  },
  "language_info": {
   "codemirror_mode": {
    "name": "ipython",
    "version": 3
   },
   "file_extension": ".py",
   "mimetype": "text/x-python",
   "name": "python",
   "nbconvert_exporter": "python",
   "pygments_lexer": "ipython3",
   "version": "3.9.7"
  },
  "source_map": [
   14,
   24,
   36,
   44,
   51,
   55,
   68,
   72,
   85,
   89,
   92,
   100,
   113,
   125,
   155,
   159,
   173
  ]
 },
 "nbformat": 4,
 "nbformat_minor": 5
}