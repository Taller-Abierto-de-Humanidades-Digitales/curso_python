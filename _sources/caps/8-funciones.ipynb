{
 "cells": [
  {
   "cell_type": "markdown",
   "id": "3cf730db",
   "metadata": {},
   "source": [
    "# Funciones\n",
    "\n",
    "Vamos a finalizar nuestro curso intensivo con una de las herramientas más poderosas de Python: las funciones [^clases].\n",
    "\n",
    "En términos simples, las funciones son bloques de código que realizan una tarea específica y pueden ser reutilizadas en diferentes partes de nuestro programa \"llamándolas\" por su nombre.\n",
    "\n",
    "Por ejemplo, ¿recuerdas el programa que creamos para saludar a alguien de acuerdo con su nombre y género? Podríamos escribirlo de la siguiente manera:"
   ]
  },
  {
   "cell_type": "code",
   "execution_count": 1,
   "id": "edf4ac0e",
   "metadata": {},
   "outputs": [
    {
     "name": "stdout",
     "output_type": "stream",
     "text": [
      "¡Bienvenida, María!\n"
     ]
    }
   ],
   "source": [
    "def saludar(nombre, genero):\n",
    "    \"\"\"Saluda a alguien de acuerdo con su nombre y género\"\"\"\n",
    "    if genero == \"f\":\n",
    "        print(f\"¡Bienvenida, {nombre}!\")\n",
    "    elif genero == \"m\":\n",
    "        print(f\"¡Bienvenido, {nombre}!\")\n",
    "    else:\n",
    "        print(f\"¡Bienvenidx, {nombre}!\")\n",
    "\n",
    "saludar(\"María\", \"f\")"
   ]
  },
  {
   "cell_type": "markdown",
   "id": "68923d91",
   "metadata": {},
   "source": [
    "Detengámonos un poco en la sintaxis de este código. \n",
    "\n",
    "En primer lugar, debemos tener en cuenta que una función se define con la palabra reservada `def` seguida del nombre de la función y de los argumentos que recibe entre paréntesis. En este caso, la función `saludar` recibe dos argumentos: `nombre` y `genero`.\n",
    "\n",
    "La cantidad de argumentos que recibe una función no es fija. De hecho, podemos crear una función sin argumentos:"
   ]
  },
  {
   "cell_type": "code",
   "execution_count": 2,
   "id": "08a6454c",
   "metadata": {},
   "outputs": [
    {
     "name": "stdout",
     "output_type": "stream",
     "text": [
      "¡Hola!\n"
     ]
    }
   ],
   "source": [
    "def saludar():\n",
    "    \"\"\"Solamente, saluda\"\"\"\n",
    "    print(\"¡Hola!\")\n",
    "\n",
    "saludar()"
   ]
  },
  {
   "cell_type": "markdown",
   "id": "0ae7a320",
   "metadata": {},
   "source": [
    "O con muchos argumentos:"
   ]
  },
  {
   "cell_type": "code",
   "execution_count": 3,
   "id": "6a75a77f",
   "metadata": {},
   "outputs": [
    {
     "name": "stdout",
     "output_type": "stream",
     "text": [
      "¡Bienvenida, María!\n",
      "Veo que tienes 25 años y vives en Buenos Aires.\n"
     ]
    }
   ],
   "source": [
    "def saludar(nombre, genero, edad, ciudad):\n",
    "    \"\"\"Saluda a alguien de acuerdo con su nombre, género, edad y ciudad\"\"\"\n",
    "    if genero == \"f\":\n",
    "        print(f\"¡Bienvenida, {nombre}!\")\n",
    "    elif genero == \"m\":\n",
    "        print(f\"¡Bienvenido, {nombre}!\")\n",
    "    else:\n",
    "        print(f\"¡Bienvenidx, {nombre}!\")\n",
    "    print(f\"Veo que tienes {edad} años y vives en {ciudad}.\")\n",
    "\n",
    "saludar(\"María\", \"f\", 25, \"Buenos Aires\")"
   ]
  },
  {
   "cell_type": "markdown",
   "id": "3fd1e2fc",
   "metadata": {},
   "source": [
    "También podemos determinar un valor por defecto para los argumentos de una función. En este caso, si no se especifica un valor para el argumento, se utilizará el valor por defecto:"
   ]
  },
  {
   "cell_type": "code",
   "execution_count": 4,
   "id": "b11397d1",
   "metadata": {},
   "outputs": [
    {
     "name": "stdout",
     "output_type": "stream",
     "text": [
      "¡Bienvenida, María!\n",
      "Veo que tienes 25 años y vives en Buenos Aires.\n"
     ]
    }
   ],
   "source": [
    "def saludar(nombre, genero, edad=25, ciudad=\"Buenos Aires\"):\n",
    "    \"\"\"Saluda a alguien de acuerdo con su nombre, género, edad y ciudad\"\"\"\n",
    "    if genero == \"f\":\n",
    "        print(f\"¡Bienvenida, {nombre}!\")\n",
    "    elif genero == \"m\":\n",
    "        print(f\"¡Bienvenido, {nombre}!\")\n",
    "    else:\n",
    "        print(f\"¡Bienvenidx, {nombre}!\")\n",
    "    print(f\"Veo que tienes {edad} años y vives en {ciudad}.\")\n",
    "\n",
    "saludar(\"María\", \"f\")"
   ]
  },
  {
   "cell_type": "markdown",
   "id": "a8ef2ca6",
   "metadata": {},
   "source": [
    "En este caso, el argumento `edad` toma el valor por defecto de 25 y el argumento `ciudad` toma el valor por defecto de \"Buenos Aires\". Si especificamos un valor para alguno de estos argumentos, se utilizará el valor que le pasamos:"
   ]
  },
  {
   "cell_type": "code",
   "execution_count": 5,
   "id": "b05575a2",
   "metadata": {},
   "outputs": [
    {
     "name": "stdout",
     "output_type": "stream",
     "text": [
      "¡Bienvenida, Laura!\n",
      "Veo que tienes 30 años y vives en Ciudad de México.\n"
     ]
    }
   ],
   "source": [
    "saludar(\"Laura\", \"f\", 30, \"Ciudad de México\")"
   ]
  },
  {
   "cell_type": "markdown",
   "id": "cf9277a8",
   "metadata": {},
   "source": [
    "En este caso, la función se comporta de acuerdo con los nuevos valores que le estamos pasando.\n",
    "\n",
    "## Notas\n",
    "\n",
    "[^clases]: Obviamente, apenas hemos arañado la superficie. Con estos elementos es posible hacer programas de diferentes niveles. Sin embargo, para poder abarcar un conocimiento básico de Python, también es importante tener en cuenta que existen otros elementos que no hemos visto en este curso. En particular, las clases son un tipo de objeto complejo y permiten crear estructuras de programación más completas. En caso de que quieras profundizar en el tema, te recomiendo mucho el capítulo 9 de {cite}`matthes_python_2016`."
   ]
  }
 ],
 "metadata": {
  "jupytext": {
   "cell_metadata_filter": "-all",
   "formats": "md:myst",
   "text_representation": {
    "extension": ".md",
    "format_name": "myst",
    "format_version": 0.13,
    "jupytext_version": "1.14.0"
   }
  },
  "kernelspec": {
   "display_name": "Python 3 (ipykernel)",
   "language": "python",
   "name": "python3"
  },
  "language_info": {
   "codemirror_mode": {
    "name": "ipython",
    "version": 3
   },
   "file_extension": ".py",
   "mimetype": "text/x-python",
   "name": "python",
   "nbconvert_exporter": "python",
   "pygments_lexer": "ipython3",
   "version": "3.9.7"
  },
  "source_map": [
   14,
   24,
   36,
   44,
   51,
   55,
   68,
   72,
   85,
   89,
   92
  ]
 },
 "nbformat": 4,
 "nbformat_minor": 5
}