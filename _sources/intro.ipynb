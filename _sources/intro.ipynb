{
 "cells": [
  {
   "cell_type": "markdown",
   "id": "954ed598",
   "metadata": {},
   "source": [
    "# Te damos la bienvenida a este microcurso de Python\n",
    "\n",
    "En este curso, haremos una introducción a los aspectos claves para empezar a programar con el lenguaje Python.\n",
    "\n",
    "## Algunas instrucciones\n",
    "\n",
    "En términos de requerimientos prácticos solamente necesitas contar con una cuenta de Google (para crear tu cuaderno de Google Colab) y una cuenta de [GitHub](https://github.com/signup?ref_cta=Sign+up&ref_loc=header+logged+out&ref_page=%2F&source=header-home) (para compartir tu actividad en los \"foros\").\n",
    "\n",
    "Para comprobar tus habilidades, será muy relevante que puedas compartir en este espacio tus actividades, así como tus dudas y preguntas. Si tienes preguntas de cualquier tipo, deja una entrada en los [issues](https://github.com/Taller-Abierto-de-Humanidades-Digitales/curso_python/issues/new?title=Duda%20sobre%20el%20curso&body=Escribe%20aquí%20tu%20comentario.) del cuaderno.\n",
    "\n",
    "## Sobre las actividades\n",
    "\n",
    "Las actividades prácticas en este caso son muy sencillas. Solamente tienen el interés de que puedas prestar atención a detalles como la sintaxis, la asignación de valores, entre otros. Para ello, te incluiremos un cuaderno de Google Colab que podrás abrir desde tu cuenta, modificar y comprobar que el código está bien escrito.\n",
    "\n",
    "Para realizar las actividades, solamente necesitas editar la celda que requiere el ejercicio, ejecutarla y comprobar que esté correctamente con al ejecutar la siguiente celda. Si todo está bien, la celda te dará un mensaje de \"¡Bien hecho!\", si no, te dará un mensaje de error que te ayudará a corregir tu código.\n",
    "\n",
    "La siguiente captura de pantalla muestra un ejemplo de cómo se realiza una actividad:\n",
    "\n",
    "```{figure} _static/imgs/intro/ejemplo_actividad.gif\n",
    "---\n",
    "height: 400px\n",
    "name: actividad\n",
    "---\n",
    "```\n",
    "\n",
    "## Estructura del curso\n",
    "\n",
    "```{tableofcontents}\n",
    "```"
   ]
  }
 ],
 "metadata": {
  "jupytext": {
   "cell_metadata_filter": "-all",
   "formats": "md:myst",
   "text_representation": {
    "extension": ".md",
    "format_name": "myst",
    "format_version": 0.13,
    "jupytext_version": "1.14.0"
   }
  },
  "kernelspec": {
   "display_name": "Python 3 (ipykernel)",
   "language": "python",
   "name": "python3"
  },
  "language_info": {
   "codemirror_mode": {
    "name": "ipython",
    "version": 3
   },
   "file_extension": ".py",
   "mimetype": "text/x-python",
   "name": "python",
   "nbconvert_exporter": "python",
   "pygments_lexer": "ipython3",
   "version": "3.9.7"
  },
  "source_map": [
   14
  ]
 },
 "nbformat": 4,
 "nbformat_minor": 5
}