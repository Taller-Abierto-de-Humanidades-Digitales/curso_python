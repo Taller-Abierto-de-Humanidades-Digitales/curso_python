{
  "cells": [
    {
      "cell_type": "markdown",
      "metadata": {
        "id": "iYuiZ4qZ7Zrf"
      },
      "source": [
        "# Actividad: aspectos básicos de Python\n",
        "\n",
        "En esta actividad, vamos a practicar los conceptos básicos de Python que vimos en la clase anterior. Abre este cuaderno en tu Google Colab utilizando el botón \"Open in Colab\", luego haz una copia en Drive (\"Archivo > Guardar una copia en Drive\") y sigue las instrucciones. \n",
        "\n",
        "<a href=\"https://colab.research.google.com/gist/jairomelo/2738987848aa55b99ba3475f7bd56667/5-actividadc1.ipynb\" target=\"_parent\"><img src=\"https://colab.research.google.com/assets/colab-badge.svg\" alt=\"Open In Colab\"/></a>\n",
        "\n",
        "Comparte tu actividad en la [discusión](https://github.com/Taller-Abierto-de-Humanidades-Digitales/curso_python/issues/new?title=Actividad%20aspectos%20básicos&body=El%20enlace%20de%20tu%20cuaderno.) del curso.\n"
      ]
    },
    {
      "cell_type": "markdown",
      "metadata": {
        "id": "aAKK-29d7Zrh"
      },
      "source": [
        "## Ejercicio 1\n",
        "\n",
        "Crea una variable para el valor \"Hola mundo\" e imprímela en pantalla. (Esta actividad no cuenta con una casilla de verificación, así que no olvides imprimir el valor en pantalla para comprobar que es correcto)."
      ]
    },
    {
      "cell_type": "code",
      "execution_count": null,
      "metadata": {
        "id": "WCJzfKUL7Zrh"
      },
      "outputs": [],
      "source": [
        "# crea tu código aquí\n",
        "\n"
      ]
    },
    {
      "cell_type": "markdown",
      "metadata": {
        "id": "6cFNgBlL7Zri"
      },
      "source": [
        "En esta actividad, vamos a practicar la asignación de valores a variables y la impresión de mensajes en pantalla.\n",
        "\n",
        "## Ejercicio 2\n",
        "\n",
        "Asigna un valor de 'texto' a la variable `mensaje` y luego imprímela en pantalla."
      ]
    },
    {
      "cell_type": "code",
      "execution_count": null,
      "metadata": {
        "id": "GpQt8EDI7Zri"
      },
      "outputs": [],
      "source": [
        "mensaje\n",
        "print(mensaje)\n"
      ]
    },
    {
      "cell_type": "code",
      "execution_count": null,
      "metadata": {
        "id": "ER6kSbtY7Zri"
      },
      "outputs": [],
      "source": [
        "# assert mensaje is str\n",
        "assert isinstance(mensaje, str) and mensaje != \"\", \"la variable 'mensaje' no es una cadena de texto\"\n",
        "print(\"¡Felicitaciones! ¡Tu código es correcto!\")"
      ]
    },
    {
      "cell_type": "markdown",
      "metadata": {
        "id": "DrTiswAQ7Zrj"
      },
      "source": [
        "## Ejercicio 3\n",
        "\n",
        "Modifica la variable \"numero\" para que su valor sea numérico"
      ]
    },
    {
      "cell_type": "code",
      "execution_count": null,
      "metadata": {
        "id": "4F6joDV37Zrj"
      },
      "outputs": [],
      "source": [
        "numero = \"10\"\n",
        "print(numero)"
      ]
    },
    {
      "cell_type": "code",
      "execution_count": null,
      "metadata": {
        "id": "dj3Kns-E7Zrj"
      },
      "outputs": [],
      "source": [
        "assert isinstance(numero, int), \"la variable 'numero' no es un número entero\"\n",
        "print(\"¡Felicitaciones! ¡Tu código es correcto!\")"
      ]
    },
    {
      "cell_type": "markdown",
      "metadata": {
        "id": "1HcrJjTD7Zrj"
      },
      "source": [
        "## Ejercicio 4\n",
        "\n",
        "Teniendo una variable con el nombre autor y el valor `\"Eric Matthes\"` y otra con el nombre `año` y el valor `2019`, crea una variable que construya la frase `\"Eric Matthes publicó su libro en 2019\"`."
      ]
    },
    {
      "cell_type": "code",
      "execution_count": null,
      "metadata": {
        "id": "EuTXSeTy7Zrk"
      },
      "outputs": [],
      "source": [
        "\n",
        "\n",
        "frase = \n",
        "\n",
        "print(frase)"
      ]
    },
    {
      "cell_type": "code",
      "execution_count": null,
      "metadata": {
        "id": "oE-YNXJI7Zrk"
      },
      "outputs": [],
      "source": [
        "assert frase == f\"{autor} publicó su libro en {año}\", \"la variable 'frase' no tiene el formato correcto\"\n",
        "print(\"¡Felicitaciones! ¡Tu código es correcto!\")"
      ]
    },
    {
      "cell_type": "markdown",
      "metadata": {
        "id": "LyujsUYf7Zrk"
      },
      "source": [
        "## Ejercicio 5\n",
        "\n",
        "Modifica los valores de las variables para que el resultado sea verdadero (True)."
      ]
    },
    {
      "cell_type": "code",
      "execution_count": null,
      "metadata": {
        "id": "Jda9pup_7Zrk"
      },
      "outputs": [],
      "source": [
        "var1 = \"Lev\"\n",
        "var2 = \" Manovich\"\n",
        "\n",
        "test = var1 + var2 != \"Lev Manovich\"\n",
        "print(test)\n"
      ]
    },
    {
      "cell_type": "code",
      "execution_count": null,
      "metadata": {
        "id": "CxfxssWs7Zrk"
      },
      "outputs": [],
      "source": [
        "assert test, \"la variable 'test' no tiene el formato correcto\"\n",
        "print(\"¡Felicitaciones! ¡Tu código es correcto!\")"
      ]
    },
    {
      "cell_type": "markdown",
      "metadata": {
        "id": "E2JKXWFT7Zrl"
      },
      "source": [
        "## Ejercicio 6\n",
        "\n",
        "En la lista de la familia Simpson hace falta un personaje. Agrega a la lista a \"Maggie\"."
      ]
    },
    {
      "cell_type": "code",
      "execution_count": null,
      "metadata": {
        "id": "MMBa5Noe7Zrl"
      },
      "outputs": [],
      "source": [
        "familia_simpson = [\"Homero\", \"Marge\", \"Bart\", \"Lisa\"]\n",
        "\n",
        "print(familia_simpson)"
      ]
    },
    {
      "cell_type": "code",
      "execution_count": null,
      "metadata": {
        "id": "r17hZpHa7Zrl"
      },
      "outputs": [],
      "source": [
        "assert \"Maggie\" in familia_simpson, \"No agregaste a Maggie a la lista\"\n",
        "print(\"¡Felicitaciones! ¡Tu código es correcto!\")"
      ]
    },
    {
      "cell_type": "markdown",
      "metadata": {
        "id": "40dBanLE7Zrl"
      },
      "source": [
        "## Ejercicio 7\n",
        "\n",
        "Calcula la longitud de la lista de `personajes_guerraypaz` para que puedas construir la frase `\"La novela Guerra y Paz tiene x personajes principales.\"`."
      ]
    },
    {
      "cell_type": "code",
      "execution_count": null,
      "metadata": {
        "id": "0J3WUwkz7Zrl"
      },
      "outputs": [],
      "source": [
        "personajes_guerraypaz = [\"Cyril\",  \"Pierre\",  \"Nicholas\",\n",
        "        \"Rostóva\",\"Natalie\",\"Natasha\",\"Catiche\", \"Ilyá\",\n",
        "        \"Nikolenka\",  \"Pétya\",\"Véra\",\"Sónya\", \"Nicholas\",\n",
        "        \"Alpatych\", \"Vasíli\", \"Anatole\", \"Leyla\", \"Borís\",\"Mitenka\",\n",
        "        \"Berg\", \"Bourienne\", \"Lorrain\", \"Michael Ivánovich\",\n",
        "        \"Timókhin\",\"Kozlovski\", \"Nesvítski\", \"Kirsten\",  \"Bilibin\",  \"Bagration\",\n",
        "        \"Murat\",  \"Tushin\",\"Alpatych\"]\n",
        "\n",
        "frase = "
      ]
    },
    {
      "cell_type": "code",
      "execution_count": null,
      "metadata": {
        "id": "d_ZHO4gl7Zrm"
      },
      "outputs": [],
      "source": [
        "x = len(personajes_guerraypaz)\n",
        "frase = frase.lower()\n",
        "frase = frase.replace(\".\", \"\")\n",
        "assert frase == f\"la novela guerra y paz tiene {x} personajes principales\", \"la variable 'frase' no tiene el formato o el cálculo correcto\"\n",
        "print(\"¡Felicitaciones! ¡Tu código es correcto!\")"
      ]
    },
    {
      "cell_type": "markdown",
      "metadata": {
        "id": "DCjxLMKP7Zrm"
      },
      "source": [
        "## Ejercicio 8\n",
        "\n",
        "Hemos creado un diccionario con los autores del Boom Latinoamericano y sus obras más importantes. Agrega a la lista de obras de \"Mario Vargas Llosa\" la obra \"La ciudad y los perros\".\n"
      ]
    },
    {
      "cell_type": "code",
      "execution_count": 2,
      "metadata": {
        "id": "3PsQDeNR7Zrm"
      },
      "outputs": [
        {
          "name": "stdout",
          "output_type": "stream",
          "text": [
            "{'Juan Rulfo': {'nacionalidad': 'mexicana', 'obra': 'Pedro Páramo', 'año': 1955}, 'Ernesto Sábato': {'nacionalidad': 'argentina', 'obra': 'El túnel', 'año': 1962}, 'Gabriel García Márquez': {'nacionalidad': 'colombiana', 'obra': 'Cien años de soledad', 'año': 1967}, 'Mario Vargas Llosa': {'nacionalidad': 'peruana', 'año': 1962, 'obra': 'La ciudad y los perros'}, 'Julio Cortázar': {'nacionalidad': 'argentina', 'obra': 'Rayuela', 'año': 1963}}\n"
          ]
        }
      ],
      "source": [
        "autores_boom = {\n",
        "    \"Juan Rulfo\": {\n",
        "        \"nacionalidad\": \"mexicana\",\n",
        "        \"obra\": \"Pedro Páramo\",\n",
        "        \"año\": 1955\n",
        "    },\n",
        "    \"Ernesto Sábato\": {\n",
        "        \"nacionalidad\": \"argentina\",\n",
        "        \"obra\": \"El túnel\",\n",
        "        \"año\": 1962,\n",
        "    },\n",
        "    \"Gabriel García Márquez\": {\n",
        "        \"nacionalidad\": \"colombiana\",\n",
        "        \"obra\": \"Cien años de soledad\",\n",
        "        \"año\": 1967\n",
        "    },\n",
        "    \"Mario Vargas Llosa\": {\n",
        "        \"nacionalidad\": \"peruana\",\n",
        "        \"año\": 1962\n",
        "    },\n",
        "    \"Julio Cortázar\": {\n",
        "        \"nacionalidad\": \"argentina\",\n",
        "        \"obra\": \"Rayuela\",\n",
        "        \"año\": 1963\n",
        "    },\n",
        "}\n",
        "\n",
        "autores_boom[\"Mario Vargas Llosa\"][\"obra\"] = \"La ciudad y los perros\"\n",
        "\n",
        "print(autores_boom)"
      ]
    },
    {
      "cell_type": "code",
      "execution_count": null,
      "metadata": {
        "id": "r0xBdEBW7Zrn"
      },
      "outputs": [],
      "source": [
        "assert \"obra\" in autores_boom[\"Mario Vargas Llosa\"], \"No agregaste la obra de Mario Vargas Llosa\"\n",
        "assert autores_boom[\"Mario Vargas Llosa\"][\"obra\"] == \"La ciudad y los perros\", \"La obra de Mario Vargas Llosa no es correcta\"\n",
        "print(\"¡Felicitaciones! ¡Tu código es correcto!\")"
      ]
    },
    {
      "cell_type": "markdown",
      "metadata": {
        "id": "_xhHyWYu7Zro"
      },
      "source": [
        "## Ejercicio 9\n",
        "\n",
        "En nuestro diccionario hay un error. La obra \"El túnel\" de Ernesto Sábato no se publicó en 1962 sino en 1948. Modifica el valor de la clave \"año\" para que sea correcto."
      ]
    },
    {
      "cell_type": "code",
      "execution_count": null,
      "metadata": {
        "id": "movCZZZt7Zro"
      },
      "outputs": [],
      "source": [
        "\n",
        "\n",
        "print(autores_boom[\"Ernesto Sábato\"])"
      ]
    },
    {
      "cell_type": "code",
      "execution_count": null,
      "metadata": {
        "id": "yKzoo5Ir7Zro"
      },
      "outputs": [],
      "source": [
        "assert autores_boom[\"Ernesto Sábato\"][\"año\"] == 1948, \"El año de la obra de Ernesto Sábato no es correcto\"\n",
        "print(\"¡Felicitaciones! ¡Tu código es correcto!\")"
      ]
    }
  ],
  "metadata": {
    "colab": {
      "include_colab_link": true,
      "provenance": []
    },
    "kernelspec": {
      "display_name": "Python 3.10.4 64-bit",
      "language": "python",
      "name": "python3"
    },
    "language_info": {
      "codemirror_mode": {
        "name": "ipython",
        "version": 3
      },
      "file_extension": ".py",
      "mimetype": "text/x-python",
      "name": "python",
      "nbconvert_exporter": "python",
      "pygments_lexer": "ipython3",
      "version": "3.10.4"
    },
    "orig_nbformat": 4,
    "vscode": {
      "interpreter": {
        "hash": "aee8b7b246df8f9039afb4144a1f6fd8d2ca17a180786b69acc140d282b71a49"
      }
    }
  },
  "nbformat": 4,
  "nbformat_minor": 0
}
